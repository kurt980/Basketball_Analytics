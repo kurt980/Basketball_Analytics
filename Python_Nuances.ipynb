{
  "nbformat": 4,
  "nbformat_minor": 0,
  "metadata": {
    "colab": {
      "provenance": [],
      "authorship_tag": "ABX9TyP3onWI2bY8Rhi3HW715LKk",
      "include_colab_link": true
    },
    "kernelspec": {
      "name": "python3",
      "display_name": "Python 3"
    },
    "language_info": {
      "name": "python"
    }
  },
  "cells": [
    {
      "cell_type": "markdown",
      "metadata": {
        "id": "view-in-github",
        "colab_type": "text"
      },
      "source": [
        "<a href=\"https://colab.research.google.com/github/kurt980/527_project/blob/main/Python_Nuances.ipynb\" target=\"_parent\"><img src=\"https://colab.research.google.com/assets/colab-badge.svg\" alt=\"Open In Colab\"/></a>"
      ]
    },
    {
      "cell_type": "code",
      "source": [
        "from typing import List\n",
        "from typing import Optional"
      ],
      "metadata": {
        "id": "NqXkpsDSUb5-"
      },
      "execution_count": null,
      "outputs": []
    },
    {
      "cell_type": "markdown",
      "source": [
        "# **Data Science Concepts**"
      ],
      "metadata": {
        "id": "b6gG1FqjolBc"
      }
    },
    {
      "cell_type": "markdown",
      "source": [
        "## **Probability and Distribution**"
      ],
      "metadata": {
        "id": "3JNozjgkoyzO"
      }
    },
    {
      "cell_type": "markdown",
      "source": [
        "**Sampling using CDF**"
      ],
      "metadata": {
        "id": "DXgM0kxnot8J"
      }
    },
    {
      "cell_type": "code",
      "source": [
        "def sample_word(d):\n",
        "  # print \"d:\", d\n",
        "  p0 = np.random.random()\n",
        "  # print \"p0:\", p0\n",
        "  cumulative = 0\n",
        "  for t, p in d.items():\n",
        "    cumulative += p\n",
        "    if p0 < cumulative:\n",
        "      return t"
      ],
      "metadata": {
        "id": "n21Mtz-holKn"
      },
      "execution_count": null,
      "outputs": []
    },
    {
      "cell_type": "markdown",
      "source": [
        "# **Built-in Functions**"
      ],
      "metadata": {
        "id": "xxXkdRlHLqHR"
      }
    },
    {
      "cell_type": "markdown",
      "source": [
        "## **Properties and Usage of Common Functions**"
      ],
      "metadata": {
        "id": "ldqgUbxPkU1-"
      }
    },
    {
      "cell_type": "markdown",
      "source": [
        "**List**\n",
        "\n",
        "- Iteration"
      ],
      "metadata": {
        "id": "UYxKC0fGmUZo"
      }
    },
    {
      "cell_type": "code",
      "source": [
        "a = [[1,2,4],[3,4,8]]"
      ],
      "metadata": {
        "id": "d6J8xjKrmUfw"
      },
      "execution_count": null,
      "outputs": []
    },
    {
      "cell_type": "code",
      "source": [
        "b = [max(i) + min(i) for i in a]"
      ],
      "metadata": {
        "id": "hpQdErTgjhSh"
      },
      "execution_count": null,
      "outputs": []
    },
    {
      "cell_type": "code",
      "source": [
        "b"
      ],
      "metadata": {
        "id": "AhkQUjlaj2iE",
        "outputId": "11d350e0-574b-44b1-bef0-7bd0d2eae8d9",
        "colab": {
          "base_uri": "https://localhost:8080/"
        }
      },
      "execution_count": null,
      "outputs": [
        {
          "output_type": "execute_result",
          "data": {
            "text/plain": [
              "[5, 11]"
            ]
          },
          "metadata": {},
          "execution_count": 17
        }
      ]
    },
    {
      "cell_type": "markdown",
      "source": [
        "##**Timestamp**"
      ],
      "metadata": {
        "id": "x6eLItBUMUc7"
      }
    },
    {
      "cell_type": "code",
      "source": [],
      "metadata": {
        "id": "JW2Gc6VoL-YF"
      },
      "execution_count": null,
      "outputs": []
    },
    {
      "cell_type": "markdown",
      "source": [
        "## **Rarely Used but Useful Functions**"
      ],
      "metadata": {
        "id": "sPTs-_bMo9j3"
      }
    },
    {
      "cell_type": "markdown",
      "source": [
        "### **Decorators**"
      ],
      "metadata": {
        "id": "r8HjgEW2T2Ra"
      }
    },
    {
      "cell_type": "code",
      "source": [
        "def foo(*args):\n",
        "  print(' foo(', *args, ')')\n",
        "\n",
        "  def inside_foo(x):\n",
        "    print('inside_foo')\n",
        "\n",
        "    def inside_inside_foo(*args):\n",
        "      print('inside_inside_foo(', *args, ')')\n",
        "      return x(*args)\n",
        "    \n",
        "    return inside_inside_foo\n",
        "  return inside_foo\n",
        "\n",
        "@foo(1,2,3)\n",
        "def bar(*args):\n",
        "  return sum(args)\n",
        "\n",
        "print(' outside')\n",
        "print(bar(4,5,6))"
      ],
      "metadata": {
        "id": "iN46lqnPT2q4",
        "outputId": "00954e37-d16e-4d6c-9961-d7a498a53c43",
        "colab": {
          "base_uri": "https://localhost:8080/"
        }
      },
      "execution_count": null,
      "outputs": [
        {
          "output_type": "stream",
          "name": "stdout",
          "text": [
            " foo( 1 2 3 )\n",
            "inside_foo\n",
            " outside\n",
            "inside_inside_foo( 4 5 6 )\n",
            "15\n"
          ]
        }
      ]
    },
    {
      "cell_type": "markdown",
      "source": [
        "### **Nuances**"
      ],
      "metadata": {
        "id": "55a437BuqQK1"
      }
    },
    {
      "cell_type": "markdown",
      "source": [
        "**ord() and chr()**\n",
        "- used to exchange character for code"
      ],
      "metadata": {
        "id": "6Y8sACxN8U9k"
      }
    },
    {
      "cell_type": "code",
      "source": [
        "ord('8') - ord('4')"
      ],
      "metadata": {
        "id": "8z-ZW5tM8VKX",
        "outputId": "6a798ada-2663-4751-f4de-cb46120559f0",
        "colab": {
          "base_uri": "https://localhost:8080/"
        }
      },
      "execution_count": null,
      "outputs": [
        {
          "output_type": "execute_result",
          "data": {
            "text/plain": [
              "4"
            ]
          },
          "metadata": {},
          "execution_count": 2
        }
      ]
    },
    {
      "cell_type": "code",
      "source": [
        "chr(ord('8'))"
      ],
      "metadata": {
        "id": "jjk_po678kZ1",
        "outputId": "15f106b1-9c5d-4a12-ecd9-0800c7b25b12",
        "colab": {
          "base_uri": "https://localhost:8080/",
          "height": 35
        }
      },
      "execution_count": null,
      "outputs": [
        {
          "output_type": "execute_result",
          "data": {
            "text/plain": [
              "'8'"
            ],
            "application/vnd.google.colaboratory.intrinsic+json": {
              "type": "string"
            }
          },
          "metadata": {},
          "execution_count": 3
        }
      ]
    },
    {
      "cell_type": "markdown",
      "source": [
        "**any()**\n",
        "- any() iterates through a list and returns true if any value is true"
      ],
      "metadata": {
        "id": "NqiTaI7DLqrx"
      }
    },
    {
      "cell_type": "code",
      "source": [
        "ns = [True, False, False]\n",
        "any(n for n in ns)"
      ],
      "metadata": {
        "id": "fxrlZBOjMD5n"
      },
      "execution_count": null,
      "outputs": []
    },
    {
      "cell_type": "markdown",
      "source": [
        "**isdigit()**"
      ],
      "metadata": {
        "id": "ZD8iwc03MKJb"
      }
    },
    {
      "cell_type": "code",
      "source": [
        "t = '1fadsfa'\n",
        "any(c.isdigit() for c in t)"
      ],
      "metadata": {
        "id": "s8zKYdUZMJrm"
      },
      "execution_count": null,
      "outputs": []
    },
    {
      "cell_type": "markdown",
      "source": [
        "**maketrans()**\n",
        "- Can use to replace characters and meanwhile deleting some other"
      ],
      "metadata": {
        "id": "7JSwMKsQkTv5"
      }
    },
    {
      "cell_type": "code",
      "source": [
        "import string"
      ],
      "metadata": {
        "id": "Zg8nEmm8kT0I"
      },
      "execution_count": null,
      "outputs": []
    },
    {
      "cell_type": "code",
      "source": [
        "mystr = 'Most'\n",
        "mappingtbl = mystr.maketrans('M','H')\n",
        "print(mappingtbl)"
      ],
      "metadata": {
        "colab": {
          "base_uri": "https://localhost:8080/"
        },
        "id": "sJX7dYSsltPb",
        "outputId": "8708d449-344e-45e7-9f86-79a8b63e1da5"
      },
      "execution_count": null,
      "outputs": [
        {
          "output_type": "stream",
          "name": "stdout",
          "text": [
            "{77: 72}\n"
          ]
        }
      ]
    },
    {
      "cell_type": "code",
      "source": [
        "mystr = 'Most'\n",
        "mappingtbl = mystr.maketrans('M','H')\n",
        "newstr = mystr.translate(mappingtbl) # pass mapping table in translate()\n",
        "print(newstr)"
      ],
      "metadata": {
        "colab": {
          "base_uri": "https://localhost:8080/"
        },
        "id": "W75V60f4ltRy",
        "outputId": "273359d5-261b-4792-a8c4-76511f26a766"
      },
      "execution_count": null,
      "outputs": [
        {
          "output_type": "stream",
          "name": "stdout",
          "text": [
            "Host\n"
          ]
        }
      ]
    },
    {
      "cell_type": "code",
      "source": [
        "mystr = 'Most'\n",
        "mappingtbl = mystr.maketrans('M','H','s')\n",
        "newstr = mystr.translate(mappingtbl) # pass mapping table in translate()\n",
        "print(newstr)"
      ],
      "metadata": {
        "colab": {
          "base_uri": "https://localhost:8080/"
        },
        "id": "e1_XaMBimSac",
        "outputId": "0e66dd28-18c0-4709-b11f-285f2dbe94b7"
      },
      "execution_count": null,
      "outputs": [
        {
          "output_type": "stream",
          "name": "stdout",
          "text": [
            "Hot\n"
          ]
        }
      ]
    }
  ]
}