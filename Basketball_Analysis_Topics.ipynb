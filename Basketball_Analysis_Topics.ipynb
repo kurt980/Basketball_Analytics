{
  "nbformat": 4,
  "nbformat_minor": 0,
  "metadata": {
    "colab": {
      "provenance": [],
      "authorship_tag": "ABX9TyNHuxCIe/aOZzr9Pp3Ez5jH",
      "include_colab_link": true
    },
    "kernelspec": {
      "name": "python3",
      "display_name": "Python 3"
    },
    "language_info": {
      "name": "python"
    }
  },
  "cells": [
    {
      "cell_type": "markdown",
      "metadata": {
        "id": "view-in-github",
        "colab_type": "text"
      },
      "source": [
        "<a href=\"https://colab.research.google.com/github/kurt980/Basketball_Analytics/blob/main/Basketball_Analysis_Topics.ipynb\" target=\"_parent\"><img src=\"https://colab.research.google.com/assets/colab-badge.svg\" alt=\"Open In Colab\"/></a>"
      ]
    },
    {
      "cell_type": "markdown",
      "source": [
        "###**Pace**\n",
        "- Slower teams will likely drag their opponents slower, but fater teams won't as much\n",
        "  - https://www.playingnumbers.com/2020/02/can-they-keep-up-a-look-into-the-pace-statistic-in-the-nba/"
      ],
      "metadata": {
        "id": "4AcQ2eQzvRoF"
      }
    }
  ]
}