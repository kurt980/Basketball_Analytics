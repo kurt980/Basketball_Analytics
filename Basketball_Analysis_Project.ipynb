{
  "nbformat": 4,
  "nbformat_minor": 0,
  "metadata": {
    "colab": {
      "provenance": [],
      "collapsed_sections": [
        "UInPazVEihf7",
        "qIMGE-iZMjEn",
        "6zaI6bqfL1-q",
        "NfF4mSS_NG3c"
      ],
      "authorship_tag": "ABX9TyPPYiGOSDcnGcLvglaI6xNJ",
      "include_colab_link": true
    },
    "kernelspec": {
      "name": "python3",
      "display_name": "Python 3"
    },
    "language_info": {
      "name": "python"
    }
  },
  "cells": [
    {
      "cell_type": "markdown",
      "metadata": {
        "id": "view-in-github",
        "colab_type": "text"
      },
      "source": [
        "<a href=\"https://colab.research.google.com/github/kurt980/Basketball_Analytics/blob/main/Basketball_Analysis_Project.ipynb\" target=\"_parent\"><img src=\"https://colab.research.google.com/assets/colab-badge.svg\" alt=\"Open In Colab\"/></a>"
      ]
    },
    {
      "cell_type": "markdown",
      "source": [
        "**Basketball Data Analysis**"
      ],
      "metadata": {
        "id": "XCWukuMTIyPt"
      }
    },
    {
      "cell_type": "markdown",
      "source": [
        "## I. Introduction\n",
        "\n",
        "Traditionally in the sports world, it is very hard to conceptualize what happens on the field with numbers.\n",
        "In recent years, with the development of precise tracking equipment, people are able to collect tons of\n",
        "data for analysis. With sophisticated models, data are blended into the basic decision making process\n",
        "for coaches and managers. As people gain more interest in quantifying the process of sports, there have\n",
        "been many proposed algorithms that focus on different aspects of the games. This study will dedicate to\n",
        "exploring the logic and effectiveness of these methods"
      ],
      "metadata": {
        "id": "76H0opAphQd3"
      }
    },
    {
      "cell_type": "markdown",
      "source": [
        "## II. Motivation\n",
        "\n",
        "There are many kinds of data one can collect in a sports game. Data is used for predicting outcome and\n",
        "can achieve 70% accuracy in basketball games. It is lucrative enough for bettors to make some money\n",
        "out of it. On the other hand, it is also used for player development and analysis. Coaches and managers\n",
        "attempt to use it to design strategy, building rosters and train their players. Important questions include:\n",
        "How is the team doing? How to allocate each player’s talent? Who would be a good fit, and who is a\n",
        "bad fit for the team? I would like to dive in this industry and discuss the current situation and future\n",
        "expectations."
      ],
      "metadata": {
        "id": "dlitUnb2hQg3"
      }
    },
    {
      "cell_type": "markdown",
      "source": [
        "## III. Literature Review\n",
        "\n",
        "Sports data has been widely used to demonstrate the functionalities of traditional models like regression.\n",
        "It also helps with the invention of many important advanced metrics that are widely used in different\n",
        "kinds of sports like ”effective field goal”, ”four factors” in basketball. Recently with the rise of machine\n",
        "learning, predicting outcomes has been one of the main focuses of studies on sports analytics. Ozkan\n",
        "(2020) proposed in his paper a model using modified neural networks that is able to reach 90% accuracy\n",
        "in predicting basketball games. Thoughts have also been put into studying the nature of sport games.\n",
        "Halliday (2019) studied the non-linear models that are potentially a better representation of the real\n",
        "events in a football game, rather than linear ones. Papers have been published to dive into the possible\n",
        "Poisson distribution of field goals in soccer and hence modelling it with more confidence. Mays(2022)\n",
        "proposed a method that utilizes quantile regression and is able to predict well with the basic collectable\n",
        "statistics in basketball.\n"
      ],
      "metadata": {
        "id": "psKpjw5uhbyN"
      }
    },
    {
      "cell_type": "markdown",
      "source": [
        "## IV. Data\n",
        "\n",
        "The data used for experiments in this discussion consists of multiple different types. It is rather compli\u0002cated to explain how each of them is calculated but it can be categorized into several main parts: raw\n",
        "data, advanced data and performance metrics.\n",
        "In this study, the data used in simulation experiments is all basketball data for simplicity. In fact, many\n",
        "types of data in basketball are generalizable to other sports.\n"
      ],
      "metadata": {
        "id": "cbpKjIMVhb0w"
      }
    },
    {
      "cell_type": "markdown",
      "source": [
        "### **Pre-processing**"
      ],
      "metadata": {
        "id": "QVqNO5okibQ5"
      }
    },
    {
      "cell_type": "markdown",
      "source": [
        "#### **Import Packages**"
      ],
      "metadata": {
        "id": "UInPazVEihf7"
      }
    },
    {
      "cell_type": "code",
      "execution_count": 1,
      "metadata": {
        "id": "arfS5lYaMgKx"
      },
      "outputs": [],
      "source": [
        "import pandas as pd\n",
        "import numpy as np"
      ]
    },
    {
      "cell_type": "code",
      "source": [
        "import sklearn\n",
        "from sklearn.linear_model import LinearRegression\n",
        "from sklearn.model_selection import train_test_split\n",
        "from sklearn.linear_model import LogisticRegression\n",
        "from sklearn.metrics import accuracy_score\n",
        "from sklearn.decomposition import PCA as sklearnPCA\n",
        "from sklearn.discriminant_analysis import LinearDiscriminantAnalysis as LDA\n",
        "from sklearn.preprocessing import PolynomialFeatures\n",
        "from sklearn.pipeline import Pipeline"
      ],
      "metadata": {
        "id": "F4de_TBIMCaa"
      },
      "execution_count": 2,
      "outputs": []
    },
    {
      "cell_type": "code",
      "source": [
        "import matplotlib.pyplot as plt\n",
        "from matplotlib import pyplot"
      ],
      "metadata": {
        "id": "sJ_4JrpNMA74"
      },
      "execution_count": 3,
      "outputs": []
    },
    {
      "cell_type": "code",
      "source": [
        "import statsmodels.api as sm\n",
        "import statsmodels.formula.api as smf"
      ],
      "metadata": {
        "id": "jTzoQYrPMEgw"
      },
      "execution_count": 4,
      "outputs": []
    },
    {
      "cell_type": "markdown",
      "source": [
        "#### **Using nba_api**"
      ],
      "metadata": {
        "id": "qIMGE-iZMjEn"
      }
    },
    {
      "cell_type": "code",
      "source": [
        "!pip install nba_api"
      ],
      "metadata": {
        "id": "Hcl9oUYsMXqL"
      },
      "execution_count": null,
      "outputs": []
    },
    {
      "cell_type": "code",
      "source": [
        "from nba_api.stats.endpoints import playercareerstats"
      ],
      "metadata": {
        "id": "ZyGAONeDMErK"
      },
      "execution_count": null,
      "outputs": []
    },
    {
      "cell_type": "markdown",
      "source": [
        "### **Load Data**"
      ],
      "metadata": {
        "id": "6zaI6bqfL1-q"
      }
    },
    {
      "cell_type": "markdown",
      "source": [
        "####**Reading game log data from local files**"
      ],
      "metadata": {
        "id": "NfF4mSS_NG3c"
      }
    },
    {
      "cell_type": "markdown",
      "source": [
        "Raw Box Score"
      ],
      "metadata": {
        "id": "9oTYURwWZZTM"
      }
    },
    {
      "cell_type": "code",
      "source": [
        "# initialize team box score data\n",
        "df = pd.read_csv('/content/sample_data/box_score.csv')\n",
        "df = df.dropna(axis=0)"
      ],
      "metadata": {
        "id": "mFaSBd33M38F"
      },
      "execution_count": null,
      "outputs": []
    },
    {
      "cell_type": "code",
      "source": [
        "# \n",
        "df_1 = df.loc[:,~df.columns.isin(['GAME_DATE', 'MATCH_UP', 'TEAM', 'MIN', 'REB', 'PD','FTA','FGA','TPA'])]\n",
        "df_1['W_L'] = pd.get_dummies(df_1['W_L'])['W']\n",
        "x_1 = df_1.loc[:,df_1.columns != 'W_L'].reset_index(drop = True) \n",
        "x_1norm = (x_1 - x_1.mean()) / (x_1.max() - x_1.min())\n",
        "x_1[x_1norm.columns] = x_1norm\n",
        "y_1 = df_1.loc[:,df_1.columns == 'W_L'].reset_index(drop = True)\n",
        "y_1 = y_1['W_L']"
      ],
      "metadata": {
        "colab": {
          "base_uri": "https://localhost:8080/"
        },
        "id": "c66bcknNORya",
        "outputId": "8e0b6e2a-13a8-401d-e33c-92d145805119"
      },
      "execution_count": null,
      "outputs": [
        {
          "output_type": "stream",
          "name": "stderr",
          "text": [
            "<ipython-input-21-a4984a49bff6>:3: SettingWithCopyWarning: \n",
            "A value is trying to be set on a copy of a slice from a DataFrame.\n",
            "Try using .loc[row_indexer,col_indexer] = value instead\n",
            "\n",
            "See the caveats in the documentation: https://pandas.pydata.org/pandas-docs/stable/user_guide/indexing.html#returning-a-view-versus-a-copy\n",
            "  df_1['W_L'] = pd.get_dummies(df_1['W_L'])['W']\n"
          ]
        }
      ]
    },
    {
      "cell_type": "code",
      "source": [
        "df.head(5)"
      ],
      "metadata": {
        "id": "-d5_zwboZLU-"
      },
      "execution_count": null,
      "outputs": []
    },
    {
      "cell_type": "markdown",
      "source": [
        "Advanced Box Score"
      ],
      "metadata": {
        "id": "BBYq-kE8ZeB9"
      }
    },
    {
      "cell_type": "code",
      "source": [
        "dfa = pd.read_csv('/content/sample_data/advanced_box_score_2023.csv', encoding='latin-1')"
      ],
      "metadata": {
        "id": "vdXxf4o5ZgJq"
      },
      "execution_count": null,
      "outputs": []
    },
    {
      "cell_type": "code",
      "source": [
        "dfa['W/L'] = pd.get_dummies(dfa['W/L'])['W']\n",
        "dfa_1 = dfa.loc[:,~dfa.columns.isin(['TEAM','MATCH_UP','GAME_DATE','MIN','OFFRTG','DEFRTG','NETRTG','PIE'])]\n",
        "dfa_1 = dfa_1.dropna()\n",
        "\n",
        "xa_1 = dfa_1.loc[:,dfa_1.columns != 'W/L'].reset_index(drop = True) \n",
        "xa_n = (xa_1 - xa_1.mean()) / (xa_1.max() - xa_1.min())\n",
        "xa_1[xa_n.columns] = xa_n\n",
        "ya_1 = dfa_1.loc[:,dfa_1.columns == 'W/L'].reset_index(drop = True)\n",
        "ya_1 = ya_1['W/L']"
      ],
      "metadata": {
        "id": "RBjSq10-Z6kG"
      },
      "execution_count": null,
      "outputs": []
    },
    {
      "cell_type": "code",
      "source": [
        "dfa.head(5)"
      ],
      "metadata": {
        "id": "VdQnxJw6Z6nF"
      },
      "execution_count": null,
      "outputs": []
    },
    {
      "cell_type": "markdown",
      "source": [
        "Four Factors Data"
      ],
      "metadata": {
        "id": "N2DantlDaEzh"
      }
    },
    {
      "cell_type": "code",
      "source": [
        "df_four = pd.read_csv('/content/sample_data/four_factors.csv')\n",
        "df_four = df_four.dropna()\n",
        "df_four = df_four.rename(columns = {'DATE':'GAME_DATE'})"
      ],
      "metadata": {
        "id": "sDFoVFBwYQet"
      },
      "execution_count": null,
      "outputs": []
    },
    {
      "cell_type": "code",
      "source": [
        "df4 = df_four.loc[:,~df_four.columns.isin(['TEAM','MATCH','GAME','GAME_DATE','MIN'])]\n",
        "df4.columns = ['HOME',\t'W_L',\t'EFG',\t'FTR',\t'TOV',\t'OREB',\t'OPPEFG',\t'OPPFTR',\t'OPPTOV',\t'OPPOREB']\n",
        "df4['W_L'] = pd.get_dummies(df4['W_L'])['W']\n",
        "df4['HOME'] = pd.get_dummies(df4['HOME'])['vs.']"
      ],
      "metadata": {
        "id": "bL4jl4ZFX9D1"
      },
      "execution_count": null,
      "outputs": []
    },
    {
      "cell_type": "code",
      "source": [
        "df4.head(5)"
      ],
      "metadata": {
        "id": "NvKXAyVYYQhS",
        "colab": {
          "base_uri": "https://localhost:8080/",
          "height": 206
        },
        "outputId": "3f096140-7912-4c26-f961-bf94dbdbfc28"
      },
      "execution_count": null,
      "outputs": [
        {
          "output_type": "execute_result",
          "data": {
            "text/plain": [
              "   HOME  W_L   EFG    FTR   TOV  OREB  OPPEFG  OPPFTR  OPPTOV  OPPOREB\n",
              "0     0    0  41.2  0.282  11.8  24.1    54.8   0.289    14.9     33.3\n",
              "1     0    0  46.6  0.402  14.0  23.5    50.0   0.226    10.2     37.1\n",
              "2     1    1  51.6  0.290  21.7  44.9    59.9   0.296    18.1     15.6\n",
              "3     1    1  46.3  0.326  12.6  33.3    48.9   0.274    16.3     37.1\n",
              "4     0    0  48.9  0.274  16.3  37.1    46.3   0.326    12.6     33.3"
            ],
            "text/html": [
              "\n",
              "  <div id=\"df-fa291665-cba7-4547-b2e5-300a1de19881\">\n",
              "    <div class=\"colab-df-container\">\n",
              "      <div>\n",
              "<style scoped>\n",
              "    .dataframe tbody tr th:only-of-type {\n",
              "        vertical-align: middle;\n",
              "    }\n",
              "\n",
              "    .dataframe tbody tr th {\n",
              "        vertical-align: top;\n",
              "    }\n",
              "\n",
              "    .dataframe thead th {\n",
              "        text-align: right;\n",
              "    }\n",
              "</style>\n",
              "<table border=\"1\" class=\"dataframe\">\n",
              "  <thead>\n",
              "    <tr style=\"text-align: right;\">\n",
              "      <th></th>\n",
              "      <th>HOME</th>\n",
              "      <th>W_L</th>\n",
              "      <th>EFG</th>\n",
              "      <th>FTR</th>\n",
              "      <th>TOV</th>\n",
              "      <th>OREB</th>\n",
              "      <th>OPPEFG</th>\n",
              "      <th>OPPFTR</th>\n",
              "      <th>OPPTOV</th>\n",
              "      <th>OPPOREB</th>\n",
              "    </tr>\n",
              "  </thead>\n",
              "  <tbody>\n",
              "    <tr>\n",
              "      <th>0</th>\n",
              "      <td>0</td>\n",
              "      <td>0</td>\n",
              "      <td>41.2</td>\n",
              "      <td>0.282</td>\n",
              "      <td>11.8</td>\n",
              "      <td>24.1</td>\n",
              "      <td>54.8</td>\n",
              "      <td>0.289</td>\n",
              "      <td>14.9</td>\n",
              "      <td>33.3</td>\n",
              "    </tr>\n",
              "    <tr>\n",
              "      <th>1</th>\n",
              "      <td>0</td>\n",
              "      <td>0</td>\n",
              "      <td>46.6</td>\n",
              "      <td>0.402</td>\n",
              "      <td>14.0</td>\n",
              "      <td>23.5</td>\n",
              "      <td>50.0</td>\n",
              "      <td>0.226</td>\n",
              "      <td>10.2</td>\n",
              "      <td>37.1</td>\n",
              "    </tr>\n",
              "    <tr>\n",
              "      <th>2</th>\n",
              "      <td>1</td>\n",
              "      <td>1</td>\n",
              "      <td>51.6</td>\n",
              "      <td>0.290</td>\n",
              "      <td>21.7</td>\n",
              "      <td>44.9</td>\n",
              "      <td>59.9</td>\n",
              "      <td>0.296</td>\n",
              "      <td>18.1</td>\n",
              "      <td>15.6</td>\n",
              "    </tr>\n",
              "    <tr>\n",
              "      <th>3</th>\n",
              "      <td>1</td>\n",
              "      <td>1</td>\n",
              "      <td>46.3</td>\n",
              "      <td>0.326</td>\n",
              "      <td>12.6</td>\n",
              "      <td>33.3</td>\n",
              "      <td>48.9</td>\n",
              "      <td>0.274</td>\n",
              "      <td>16.3</td>\n",
              "      <td>37.1</td>\n",
              "    </tr>\n",
              "    <tr>\n",
              "      <th>4</th>\n",
              "      <td>0</td>\n",
              "      <td>0</td>\n",
              "      <td>48.9</td>\n",
              "      <td>0.274</td>\n",
              "      <td>16.3</td>\n",
              "      <td>37.1</td>\n",
              "      <td>46.3</td>\n",
              "      <td>0.326</td>\n",
              "      <td>12.6</td>\n",
              "      <td>33.3</td>\n",
              "    </tr>\n",
              "  </tbody>\n",
              "</table>\n",
              "</div>\n",
              "      <button class=\"colab-df-convert\" onclick=\"convertToInteractive('df-fa291665-cba7-4547-b2e5-300a1de19881')\"\n",
              "              title=\"Convert this dataframe to an interactive table.\"\n",
              "              style=\"display:none;\">\n",
              "        \n",
              "  <svg xmlns=\"http://www.w3.org/2000/svg\" height=\"24px\"viewBox=\"0 0 24 24\"\n",
              "       width=\"24px\">\n",
              "    <path d=\"M0 0h24v24H0V0z\" fill=\"none\"/>\n",
              "    <path d=\"M18.56 5.44l.94 2.06.94-2.06 2.06-.94-2.06-.94-.94-2.06-.94 2.06-2.06.94zm-11 1L8.5 8.5l.94-2.06 2.06-.94-2.06-.94L8.5 2.5l-.94 2.06-2.06.94zm10 10l.94 2.06.94-2.06 2.06-.94-2.06-.94-.94-2.06-.94 2.06-2.06.94z\"/><path d=\"M17.41 7.96l-1.37-1.37c-.4-.4-.92-.59-1.43-.59-.52 0-1.04.2-1.43.59L10.3 9.45l-7.72 7.72c-.78.78-.78 2.05 0 2.83L4 21.41c.39.39.9.59 1.41.59.51 0 1.02-.2 1.41-.59l7.78-7.78 2.81-2.81c.8-.78.8-2.07 0-2.86zM5.41 20L4 18.59l7.72-7.72 1.47 1.35L5.41 20z\"/>\n",
              "  </svg>\n",
              "      </button>\n",
              "      \n",
              "  <style>\n",
              "    .colab-df-container {\n",
              "      display:flex;\n",
              "      flex-wrap:wrap;\n",
              "      gap: 12px;\n",
              "    }\n",
              "\n",
              "    .colab-df-convert {\n",
              "      background-color: #E8F0FE;\n",
              "      border: none;\n",
              "      border-radius: 50%;\n",
              "      cursor: pointer;\n",
              "      display: none;\n",
              "      fill: #1967D2;\n",
              "      height: 32px;\n",
              "      padding: 0 0 0 0;\n",
              "      width: 32px;\n",
              "    }\n",
              "\n",
              "    .colab-df-convert:hover {\n",
              "      background-color: #E2EBFA;\n",
              "      box-shadow: 0px 1px 2px rgba(60, 64, 67, 0.3), 0px 1px 3px 1px rgba(60, 64, 67, 0.15);\n",
              "      fill: #174EA6;\n",
              "    }\n",
              "\n",
              "    [theme=dark] .colab-df-convert {\n",
              "      background-color: #3B4455;\n",
              "      fill: #D2E3FC;\n",
              "    }\n",
              "\n",
              "    [theme=dark] .colab-df-convert:hover {\n",
              "      background-color: #434B5C;\n",
              "      box-shadow: 0px 1px 3px 1px rgba(0, 0, 0, 0.15);\n",
              "      filter: drop-shadow(0px 1px 2px rgba(0, 0, 0, 0.3));\n",
              "      fill: #FFFFFF;\n",
              "    }\n",
              "  </style>\n",
              "\n",
              "      <script>\n",
              "        const buttonEl =\n",
              "          document.querySelector('#df-fa291665-cba7-4547-b2e5-300a1de19881 button.colab-df-convert');\n",
              "        buttonEl.style.display =\n",
              "          google.colab.kernel.accessAllowed ? 'block' : 'none';\n",
              "\n",
              "        async function convertToInteractive(key) {\n",
              "          const element = document.querySelector('#df-fa291665-cba7-4547-b2e5-300a1de19881');\n",
              "          const dataTable =\n",
              "            await google.colab.kernel.invokeFunction('convertToInteractive',\n",
              "                                                     [key], {});\n",
              "          if (!dataTable) return;\n",
              "\n",
              "          const docLinkHtml = 'Like what you see? Visit the ' +\n",
              "            '<a target=\"_blank\" href=https://colab.research.google.com/notebooks/data_table.ipynb>data table notebook</a>'\n",
              "            + ' to learn more about interactive tables.';\n",
              "          element.innerHTML = '';\n",
              "          dataTable['output_type'] = 'display_data';\n",
              "          await google.colab.output.renderOutput(dataTable, element);\n",
              "          const docLink = document.createElement('div');\n",
              "          docLink.innerHTML = docLinkHtml;\n",
              "          element.appendChild(docLink);\n",
              "        }\n",
              "      </script>\n",
              "    </div>\n",
              "  </div>\n",
              "  "
            ]
          },
          "metadata": {},
          "execution_count": 47
        }
      ]
    },
    {
      "cell_type": "markdown",
      "source": [
        "## V. Raw Data and Usage\n",
        "\n",
        "Raw data is considered the data that is easily recorded and calculated by manual labor. It is usually la\u0002\\belled ”Box Score”. This category includes numbers like field goal percentage(basketball), yards(Football);\n",
        "\n",
        "Taking basketball as an example, if we run a logistic regression model with these statistics and the response being win/loss, we can get an 80% accuracy in predicting the outcome. From a more practical\n",
        "point of view, we want to identify influential factors and how they relate to the team’s performance. It\n",
        "is useful for teams to decide how they should adjust their rosters and strategy to play better."
      ],
      "metadata": {
        "id": "WalgUZHnh2ry"
      }
    },
    {
      "cell_type": "markdown",
      "source": [
        "### 5.1 Simulation Study\n",
        "\n",
        "An overview of the data we use for this category is as follows:"
      ],
      "metadata": {
        "id": "uhdnss-Yh2u5"
      }
    },
    {
      "cell_type": "markdown",
      "source": [
        "#### **Analysis on Raw Box Score**"
      ],
      "metadata": {
        "id": "NW67_0QdXV_9"
      }
    },
    {
      "cell_type": "markdown",
      "source": [
        "**Logistic Regression**"
      ],
      "metadata": {
        "id": "eNkUJGShooo8"
      }
    },
    {
      "cell_type": "code",
      "source": [
        "# split train and test by 4:1\n",
        "x_train, x_test, y_train, y_test = train_test_split(x_1,y_1,test_size=0.2)\n",
        "# x_train['Intercept'], x_test['Intercept'] = 1, 1 "
      ],
      "metadata": {
        "id": "r0HAQLI0ooo9"
      },
      "execution_count": null,
      "outputs": []
    },
    {
      "cell_type": "code",
      "source": [
        "log_reg = sm.Logit(y_train, x_train).fit()"
      ],
      "metadata": {
        "id": "geyqoIzMooo9"
      },
      "execution_count": null,
      "outputs": []
    },
    {
      "cell_type": "code",
      "source": [
        "accuracy_score(y_test, list(map(round, log_reg.predict(x_test))))"
      ],
      "metadata": {
        "id": "gxGaWHP9ooo9"
      },
      "execution_count": null,
      "outputs": []
    },
    {
      "cell_type": "code",
      "source": [
        "# run 10 batches"
      ],
      "metadata": {
        "id": "Iso0AP3-ooo9"
      },
      "execution_count": null,
      "outputs": []
    },
    {
      "cell_type": "code",
      "source": [
        "print(log_reg.summary())"
      ],
      "metadata": {
        "id": "lZb98ZAzooo9"
      },
      "execution_count": null,
      "outputs": []
    },
    {
      "cell_type": "markdown",
      "source": [
        "A logistic regression is run on some basic statistics collected by the NBA. About half the metrics are not\n",
        "significant, which is reasonable because many of them are ambiguous intuitively: more points scored does\n",
        "not mean the team is good, because it could have a bad defense. However, metrics like FG(measures the\n",
        "accuracy of shots) show significant coefficients, which shows us that we could potentially get better data\n",
        "by digging into these data."
      ],
      "metadata": {
        "id": "K_5WVSYmhQjm"
      }
    },
    {
      "cell_type": "markdown",
      "source": [
        "However, running such model may face low accuracy, hence failing to detect the true effects. As shown\n",
        "in figure 2, the win and loss data points have a fairly large overlapping. The visualization comes from\n",
        "taking the first 2 components from the PCA results of multiple basic basketball statistics for 200 games,\n",
        "and we can see much overlapping."
      ],
      "metadata": {
        "id": "pSf3eT29hQmL"
      }
    },
    {
      "cell_type": "markdown",
      "source": [
        "**Cluster over Win/Loss from Raw Box Score**"
      ],
      "metadata": {
        "id": "HaLj01BMSKGS"
      }
    },
    {
      "cell_type": "code",
      "source": [
        "pca = sklearnPCA(n_components=2) #2-dimensional PCA\n",
        "transformed = pd.DataFrame(pca.fit_transform(x_1))"
      ],
      "metadata": {
        "id": "_cEPTdfGTg58"
      },
      "execution_count": null,
      "outputs": []
    },
    {
      "cell_type": "code",
      "source": [
        "# Visualize PCA results\n",
        "plt.scatter(transformed[y_1==1][0], transformed[y_1==1][1], label='WIN', c='yellow')\n",
        "plt.scatter(transformed[y_1==0][0], transformed[y_1==0][1], label='LOSS', c='green')\n",
        "\n",
        "plt.legend()\n",
        "plt.show()"
      ],
      "metadata": {
        "id": "JHgvwS3HTg85",
        "colab": {
          "base_uri": "https://localhost:8080/",
          "height": 265
        },
        "outputId": "2e3859c4-2e90-4c98-efa3-80e8a183a485"
      },
      "execution_count": null,
      "outputs": [
        {
          "output_type": "display_data",
          "data": {
            "text/plain": [
              "<Figure size 432x288 with 1 Axes>"
            ],
            "image/png": "[encoded data removed]"
          },
          "metadata": {
            "needs_background": "light"
          }
        }
      ]
    },
    {
      "cell_type": "markdown",
      "source": [
        "Here a 2nd degree polynomial is plugged into the logistic regression model. We now see a higher pseudo\n",
        "R2\n",
        ". Which potentially signalize the non-linearity behind the data. However, this model is not as accurate,\n",
        "which is concluded in later comparisons"
      ],
      "metadata": {
        "id": "WOo5b1t4uWgS"
      }
    },
    {
      "cell_type": "markdown",
      "source": [
        "**Polynomial Logistic**"
      ],
      "metadata": {
        "id": "E4Zf-qJGf6RG"
      }
    },
    {
      "cell_type": "code",
      "source": [
        "poly = PolynomialFeatures(degree = 2, interaction_only=False, include_bias = True)\n",
        "x_poly = poly.fit_transform(x_train.loc[:,x_train.columns != 'Intercept'])\n",
        "x_poly.shape"
      ],
      "metadata": {
        "colab": {
          "base_uri": "https://localhost:8080/"
        },
        "id": "gN7Q3_lsf9DY",
        "outputId": "a0f69dc3-b6bf-46f8-ee11-f54a6af11167"
      },
      "execution_count": null,
      "outputs": [
        {
          "output_type": "execute_result",
          "data": {
            "text/plain": [
              "(2569, 120)"
            ]
          },
          "metadata": {},
          "execution_count": 30
        }
      ]
    },
    {
      "cell_type": "code",
      "source": [
        "log_reg_poly = sm.Logit(y_train, x_poly).fit()"
      ],
      "metadata": {
        "colab": {
          "base_uri": "https://localhost:8080/"
        },
        "id": "KdIBsYEZgTm3",
        "outputId": "03ca5dc8-d66c-452c-b2a8-24f598b899bf"
      },
      "execution_count": null,
      "outputs": [
        {
          "output_type": "stream",
          "name": "stdout",
          "text": [
            "Optimization terminated successfully.\n",
            "         Current function value: inf\n",
            "         Iterations 9\n"
          ]
        },
        {
          "output_type": "stream",
          "name": "stderr",
          "text": [
            "/usr/local/lib/python3.8/dist-packages/statsmodels/discrete/discrete_model.py:1810: RuntimeWarning: overflow encountered in exp\n",
            "  return 1/(1+np.exp(-X))\n",
            "/usr/local/lib/python3.8/dist-packages/statsmodels/discrete/discrete_model.py:1863: RuntimeWarning: divide by zero encountered in log\n",
            "  return np.sum(np.log(self.cdf(q*np.dot(X,params))))\n"
          ]
        }
      ]
    },
    {
      "cell_type": "code",
      "source": [
        "print(log_reg_poly.summary())"
      ],
      "metadata": {
        "id": "53TPVoLShAd3"
      },
      "execution_count": null,
      "outputs": []
    },
    {
      "cell_type": "code",
      "source": [
        "accuracy_score(y_test, list(map(round, log_reg_poly.predict(poly.fit_transform(x_test.loc[:,x_train.columns != 'Intercept'])))))"
      ],
      "metadata": {
        "colab": {
          "base_uri": "https://localhost:8080/"
        },
        "id": "XvGPau6thAgT",
        "outputId": "227d5a7c-7853-4eb8-857c-5cd84bababff"
      },
      "execution_count": null,
      "outputs": [
        {
          "output_type": "execute_result",
          "data": {
            "text/plain": [
              "0.8429237947122862"
            ]
          },
          "metadata": {},
          "execution_count": 33
        }
      ]
    },
    {
      "cell_type": "code",
      "source": [
        "# run 10 batches"
      ],
      "metadata": {
        "id": "CFqTAmfDghgw"
      },
      "execution_count": null,
      "outputs": []
    },
    {
      "cell_type": "markdown",
      "source": [
        "In order to get a better representation of the true results, we need to have better data and better mea\u0002surements, which are talked about in Section 6 and Section 7"
      ],
      "metadata": {
        "id": "TTiVpR-9uWsh"
      }
    },
    {
      "cell_type": "markdown",
      "source": [
        "## VI. Advanced Data and Advantage"
      ],
      "metadata": {
        "id": "8ugSxIHAusv9"
      }
    },
    {
      "cell_type": "markdown",
      "source": [
        "Advanced data is considered to be hard to collect manually and often requires carefully reviewing the\n",
        "replay and recording tapes. Some of the data needs to be tracked by computer. The formulas involved\n",
        "are generally more complicated and requires statistical inference for justification. Such data includes\n",
        "efficient field goal percentage in basketball, which is computed by:\n",
        "\n",
        "$$(FieldGoal + 0.5 × 3P ointF ielGoal)/FieldGoalAttempt$$\n",
        "\n",
        "in order to balance the effectiveness in scoring by 2 point and 3 point shots"
      ],
      "metadata": {
        "id": "NNC_YD4quc2L"
      }
    },
    {
      "cell_type": "markdown",
      "source": [
        "###**Analysis on Advanced Statistics**"
      ],
      "metadata": {
        "id": "IY8YBrU5Xbzg"
      }
    },
    {
      "cell_type": "markdown",
      "source": [
        "**Advanced Statistics**"
      ],
      "metadata": {
        "id": "wAbgQa3xClEM"
      }
    },
    {
      "cell_type": "code",
      "source": [
        "# split train and test by 4:1\n",
        "xa_train, xa_test, ya_train, ya_test = train_test_split(xa_1,ya_1,test_size=0.2)"
      ],
      "metadata": {
        "id": "SwlexKA6B2es"
      },
      "execution_count": null,
      "outputs": []
    },
    {
      "cell_type": "code",
      "source": [
        "xa_train['Intercept'] = 1\n",
        "xa_test['Intercept'] = 1"
      ],
      "metadata": {
        "id": "OTE9nqE4Zc99"
      },
      "execution_count": null,
      "outputs": []
    },
    {
      "cell_type": "markdown",
      "source": [
        "**Logistic Regression**"
      ],
      "metadata": {
        "id": "KH2LuqCLYQDf"
      }
    },
    {
      "cell_type": "code",
      "source": [
        "log_reg_a = sm.Logit(ya_train, xa_train.astype(float)).fit()\n",
        "print(log_reg_a.summary())"
      ],
      "metadata": {
        "id": "PN1PKmoIB2hS"
      },
      "execution_count": null,
      "outputs": []
    },
    {
      "cell_type": "code",
      "source": [
        "accuracy_score(ya_test, list(map(round, log_reg_a.predict(xa_test))))"
      ],
      "metadata": {
        "colab": {
          "base_uri": "https://localhost:8080/"
        },
        "id": "hSZ9rZRSB2jv",
        "outputId": "c60ff950-3f1e-42d7-fffa-566a48276ae0"
      },
      "execution_count": null,
      "outputs": [
        {
          "output_type": "execute_result",
          "data": {
            "text/plain": [
              "0.8118195956454122"
            ]
          },
          "metadata": {},
          "execution_count": 43
        }
      ]
    },
    {
      "cell_type": "code",
      "source": [
        "# run 10 batches\n"
      ],
      "metadata": {
        "id": "pB707sEVB2mO"
      },
      "execution_count": null,
      "outputs": []
    },
    {
      "cell_type": "markdown",
      "source": [
        "### 6.1 Four Factors\n",
        "\n",
        "In basketball, a measure created by Dean Oliver is called ”Four Factors”. It utilizes some of the advanced\n",
        "statistics mentioned above. The four factors are to score efficiently, protect the basketball on offense,\n",
        "grab as many rebounds as possible, and get to the foul line as often as possible. Each of these elements\n",
        "are closely related to the termination of a possession for a team. The widely-used measurements for these\n",
        "4 factors are Effective Field Goal Percentage, Turnover Percentage, Offensive Rebound Percentage and\n",
        "Free Throw Rate; to include both the influence on offense and defense, the opponent’s four factors are\n",
        "also included in the data"
      ],
      "metadata": {
        "id": "PaUeVlbhxdGW"
      }
    },
    {
      "cell_type": "markdown",
      "source": [
        "### 6.2 Simulation Study\n",
        "\n",
        "The simulation study is about predicting win/loss, in order to test how accurate the data predicts the game results. We can justify the effectiveness of the ”four factor” metric and compare them with raw data.\n",
        "\n",
        "Logistic Regression results for Four Factors:"
      ],
      "metadata": {
        "id": "idiJ8OZlxvnb"
      }
    },
    {
      "cell_type": "markdown",
      "source": [
        "The four factor model has a significantly better performance compared with raw data. The ’Home court’\n",
        "and intercept are both non-significant so the four factors have indeed a very influential impact. A thing\n",
        "to notice is that the coefficients for the same metric for home/away teams have similar magnitudes but\n",
        "opposite signs. Comparatively, we can see the efficient field goal percentage has the highest impact on\n",
        "the log odds of winning with a coefficient of 41, while offensive rebounding rate has coefficient of 16; Free\n",
        "throw rate has a coefficient of 7.6. And turnover rate has a negative impact, with coefficient of -18."
      ],
      "metadata": {
        "id": "LvBqSyQjx45s"
      }
    },
    {
      "cell_type": "markdown",
      "source": [
        "**Four Factors**"
      ],
      "metadata": {
        "id": "4CgrEPGRYO-3"
      }
    },
    {
      "cell_type": "code",
      "source": [
        "x4 = df4.loc[:,df4.columns != 'W_L'].reset_index(drop = True) \n",
        "x4_n = (x4 - x4.mean()) / (x4.max() - x4.min())\n",
        "x4[x4_n.columns] = x4_n\n",
        "\n",
        "y4 = df4.loc[:,df4.columns == 'W_L'].reset_index(drop = True)\n",
        "# split train and test by 4:1\n",
        "x4_train, x4_test, y4_train, y4_test = train_test_split(x4,y4,test_size=0.2)"
      ],
      "metadata": {
        "id": "NYUXAcPVh9-A"
      },
      "execution_count": null,
      "outputs": []
    },
    {
      "cell_type": "markdown",
      "source": [
        "**Logistic Regression**"
      ],
      "metadata": {
        "id": "07yPnJ-1YWuX"
      }
    },
    {
      "cell_type": "code",
      "source": [
        "log_reg_4_1 = smf.logit(formula=\"W_L ~ EFG\t+ FTR + TOV\t+ OREB + OPPEFG + OPPFTR + OPPTOV + OPPOREB + C(HOME)\", data=pd.concat([y4_train,x4_train], axis=1)).fit()\n",
        "print(log_reg_4_1.summary())"
      ],
      "metadata": {
        "id": "w08XhyhxNCUj"
      },
      "execution_count": null,
      "outputs": []
    },
    {
      "cell_type": "code",
      "source": [
        "accuracy_score(y4_train, list(map(round, log_reg_4_1.predict(x4_train))))"
      ],
      "metadata": {
        "colab": {
          "base_uri": "https://localhost:8080/"
        },
        "id": "nv-auOtShjR7",
        "outputId": "06a4b598-afc2-4689-d953-42c1308fc8b8"
      },
      "execution_count": null,
      "outputs": [
        {
          "output_type": "execute_result",
          "data": {
            "text/plain": [
              "0.9430577223088924"
            ]
          },
          "metadata": {},
          "execution_count": 50
        }
      ]
    },
    {
      "cell_type": "code",
      "source": [
        "# Cross-validation\n",
        "mean4 = []\n",
        "for i in range(10):\n",
        "  batch = df4.sample(1000)\n",
        "\n",
        "  x4b = batch.loc[:,batch.columns != 'W_L'].reset_index(drop = True) \n",
        "  x4_nb = (x4b - x4b.mean()) / (x4b.max() - x4b.min())\n",
        "  x4b[x4_nb.columns] = x4_nb\n",
        "\n",
        "  y4b = batch.loc[:,batch.columns == 'W_L'].reset_index(drop = True)\n",
        "  # split train and test by 4:1\n",
        "  x4b_train, x4b_test, y4b_train, y4b_test = train_test_split(x4b,y4b,test_size=0.2)\n",
        "\n",
        "  log_reg_4_b = smf.logit(formula=\"W_L ~ EFG\t+ FTR + TOV\t+ OREB + OPPEFG + OPPFTR + OPPTOV + OPPOREB + C(HOME)\", data=pd.concat([y4b_train,x4b_train], axis=1)).fit()\n",
        "  \n",
        "  mean4.append(accuracy_score(y4b_train, list(map(round, log_reg_4_b.predict(x4b_train)))))\n"
      ],
      "metadata": {
        "id": "FyTEdq8yYQl_"
      },
      "execution_count": null,
      "outputs": []
    },
    {
      "cell_type": "code",
      "source": [
        "mean4"
      ],
      "metadata": {
        "id": "FA4aHkvBYQoP"
      },
      "execution_count": null,
      "outputs": []
    },
    {
      "cell_type": "code",
      "source": [],
      "metadata": {
        "id": "2ovQr6k2YQqZ",
        "colab": {
          "base_uri": "https://localhost:8080/"
        },
        "outputId": "f4bfbb43-c788-4a29-f5cb-eaeca3e4217a"
      },
      "execution_count": null,
      "outputs": [
        {
          "output_type": "execute_result",
          "data": {
            "text/plain": [
              "3206"
            ]
          },
          "metadata": {},
          "execution_count": 293
        }
      ]
    },
    {
      "cell_type": "markdown",
      "source": [
        "### 6.3 Comparison between Section 5 and 6\n",
        "\n",
        "To highlight the superiority of advanced data, the table below is a comparison between previous models."
      ],
      "metadata": {
        "id": "cSUX2jeHzHU0"
      }
    },
    {
      "cell_type": "markdown",
      "source": [
        "The second order polynomial has a very high variance compared with other models, likely over-fitting.\n",
        "The four-factor model has low variance and is able to reach high accuracy"
      ],
      "metadata": {
        "id": "5i8JZa7FzLoz"
      }
    },
    {
      "cell_type": "markdown",
      "source": [
        "### 6.4 Quantile Regression to Estimate Winning Probability\n",
        "In a paper by Mays(2022), a novel model involving quantile regression is introduced. Mays proposed that,\n",
        "similar to logistic regression, we can use quantile regression instead to estimate the probility of winning\n",
        "using statistics:\n",
        "\n"
      ],
      "metadata": {
        "id": "KGP7HxbyzPxK"
      }
    },
    {
      "cell_type": "markdown",
      "source": [],
      "metadata": {
        "id": "xphDwZBNzP0m"
      }
    },
    {
      "cell_type": "markdown",
      "source": [],
      "metadata": {
        "id": "qI4qq_OfzP3S"
      }
    },
    {
      "cell_type": "markdown",
      "source": [],
      "metadata": {
        "id": "hKJjOFgfzP6C"
      }
    },
    {
      "cell_type": "markdown",
      "source": [
        "##**Quantile Regression**"
      ],
      "metadata": {
        "id": "EtUolpWgqT6m"
      }
    },
    {
      "cell_type": "code",
      "source": [
        "# fit the model\n",
        "model = smf.quantreg('Emission ~ Distance',\n",
        "                     df).fit(q=0.7)\n",
        " \n",
        "# view model summary\n"
      ],
      "metadata": {
        "id": "SUTw_GdIp7KM"
      },
      "execution_count": null,
      "outputs": []
    },
    {
      "cell_type": "code",
      "source": [
        "df_p0"
      ],
      "metadata": {
        "id": "VBmpobyNp7L2",
        "colab": {
          "base_uri": "https://localhost:8080/",
          "height": 424
        },
        "outputId": "8a3cc6cc-7fee-4d90-a578-3c6c98744f14"
      },
      "execution_count": null,
      "outputs": [
        {
          "output_type": "execute_result",
          "data": {
            "text/plain": [
              "     TEAM     MATCH_UP  GAME_DATE W_L  MIN  PTS  FGM  FGA    FG  TPM  ...  \\\n",
              "0     LAC    LAC @ MIA  12/8/2022   L   48  110   37   80  46.3   17  ...   \n",
              "1     SAS  SAS vs. HOU  12/8/2022   W   48  118   46   83  55.4   13  ...   \n",
              "2     POR  POR vs. DEN  12/8/2022   L   48  120   44   91  48.4   16  ...   \n",
              "3     DEN    DEN @ POR  12/8/2022   W   48  121   47   91  51.6   12  ...   \n",
              "4     HOU    HOU @ SAS  12/8/2022   L   48  109   44   98  44.9   10  ...   \n",
              "...   ...          ...        ...  ..  ...  ...  ...  ...   ...  ...  ...   \n",
              "3207  SAS    SAS @ DET   1/1/2022   L   53  116   42  102  41.2   12  ...   \n",
              "3208  UTA  UTA vs. GSW   1/1/2022   L   48  116   40   92  43.5   14  ...   \n",
              "3209  CHI    CHI @ WAS   1/1/2022   W   48  120   41   84  48.8   17  ...   \n",
              "3210  HOU  HOU vs. DEN   1/1/2022   L   48  111   37   85  43.5   16  ...   \n",
              "3211  DET  DET vs. SAS   1/1/2022   W   53  117   41  101  40.6    9  ...   \n",
              "\n",
              "      DREB  REB  AST  TOV  STL  BLK  PF  PD  AWAYPTS       PWP  \n",
              "0       36   43   24   16    3    3  16  -5      115  0.324437  \n",
              "1       31   38   25   17    5    7  19   9      109  0.787355  \n",
              "2       25   38   30   13   10    3  20  -1      121  0.465821  \n",
              "3       32   48   28   16    6    5  16   1      120  0.534179  \n",
              "4       26   42   23   14    3    4  19  -9      118  0.212645  \n",
              "...    ...  ...  ...  ...  ...  ...  ..  ..      ...       ...  \n",
              "3207    35   48   30   17    8    3  27  -1      117  0.464651  \n",
              "3208    30   45   19   13    7    0  21  -7      123  0.275518  \n",
              "3209    38   44   17   15    4    4  24   1      119  0.534464  \n",
              "3210    23   36   20   18   10    4  24 -13      124  0.138549  \n",
              "3211    41   63   18   21   12    6  23   1      116  0.535349  \n",
              "\n",
              "[3212 rows x 26 columns]"
            ],
            "text/html": [
              "\n",
              "  <div id=\"df-09804b82-c891-4d6f-be05-1ab564927ae6\">\n",
              "    <div class=\"colab-df-container\">\n",
              "      <div>\n",
              "<style scoped>\n",
              "    .dataframe tbody tr th:only-of-type {\n",
              "        vertical-align: middle;\n",
              "    }\n",
              "\n",
              "    .dataframe tbody tr th {\n",
              "        vertical-align: top;\n",
              "    }\n",
              "\n",
              "    .dataframe thead th {\n",
              "        text-align: right;\n",
              "    }\n",
              "</style>\n",
              "<table border=\"1\" class=\"dataframe\">\n",
              "  <thead>\n",
              "    <tr style=\"text-align: right;\">\n",
              "      <th></th>\n",
              "      <th>TEAM</th>\n",
              "      <th>MATCH_UP</th>\n",
              "      <th>GAME_DATE</th>\n",
              "      <th>W_L</th>\n",
              "      <th>MIN</th>\n",
              "      <th>PTS</th>\n",
              "      <th>FGM</th>\n",
              "      <th>FGA</th>\n",
              "      <th>FG</th>\n",
              "      <th>TPM</th>\n",
              "      <th>...</th>\n",
              "      <th>DREB</th>\n",
              "      <th>REB</th>\n",
              "      <th>AST</th>\n",
              "      <th>TOV</th>\n",
              "      <th>STL</th>\n",
              "      <th>BLK</th>\n",
              "      <th>PF</th>\n",
              "      <th>PD</th>\n",
              "      <th>AWAYPTS</th>\n",
              "      <th>PWP</th>\n",
              "    </tr>\n",
              "  </thead>\n",
              "  <tbody>\n",
              "    <tr>\n",
              "      <th>0</th>\n",
              "      <td>LAC</td>\n",
              "      <td>LAC @ MIA</td>\n",
              "      <td>12/8/2022</td>\n",
              "      <td>L</td>\n",
              "      <td>48</td>\n",
              "      <td>110</td>\n",
              "      <td>37</td>\n",
              "      <td>80</td>\n",
              "      <td>46.3</td>\n",
              "      <td>17</td>\n",
              "      <td>...</td>\n",
              "      <td>36</td>\n",
              "      <td>43</td>\n",
              "      <td>24</td>\n",
              "      <td>16</td>\n",
              "      <td>3</td>\n",
              "      <td>3</td>\n",
              "      <td>16</td>\n",
              "      <td>-5</td>\n",
              "      <td>115</td>\n",
              "      <td>0.324437</td>\n",
              "    </tr>\n",
              "    <tr>\n",
              "      <th>1</th>\n",
              "      <td>SAS</td>\n",
              "      <td>SAS vs. HOU</td>\n",
              "      <td>12/8/2022</td>\n",
              "      <td>W</td>\n",
              "      <td>48</td>\n",
              "      <td>118</td>\n",
              "      <td>46</td>\n",
              "      <td>83</td>\n",
              "      <td>55.4</td>\n",
              "      <td>13</td>\n",
              "      <td>...</td>\n",
              "      <td>31</td>\n",
              "      <td>38</td>\n",
              "      <td>25</td>\n",
              "      <td>17</td>\n",
              "      <td>5</td>\n",
              "      <td>7</td>\n",
              "      <td>19</td>\n",
              "      <td>9</td>\n",
              "      <td>109</td>\n",
              "      <td>0.787355</td>\n",
              "    </tr>\n",
              "    <tr>\n",
              "      <th>2</th>\n",
              "      <td>POR</td>\n",
              "      <td>POR vs. DEN</td>\n",
              "      <td>12/8/2022</td>\n",
              "      <td>L</td>\n",
              "      <td>48</td>\n",
              "      <td>120</td>\n",
              "      <td>44</td>\n",
              "      <td>91</td>\n",
              "      <td>48.4</td>\n",
              "      <td>16</td>\n",
              "      <td>...</td>\n",
              "      <td>25</td>\n",
              "      <td>38</td>\n",
              "      <td>30</td>\n",
              "      <td>13</td>\n",
              "      <td>10</td>\n",
              "      <td>3</td>\n",
              "      <td>20</td>\n",
              "      <td>-1</td>\n",
              "      <td>121</td>\n",
              "      <td>0.465821</td>\n",
              "    </tr>\n",
              "    <tr>\n",
              "      <th>3</th>\n",
              "      <td>DEN</td>\n",
              "      <td>DEN @ POR</td>\n",
              "      <td>12/8/2022</td>\n",
              "      <td>W</td>\n",
              "      <td>48</td>\n",
              "      <td>121</td>\n",
              "      <td>47</td>\n",
              "      <td>91</td>\n",
              "      <td>51.6</td>\n",
              "      <td>12</td>\n",
              "      <td>...</td>\n",
              "      <td>32</td>\n",
              "      <td>48</td>\n",
              "      <td>28</td>\n",
              "      <td>16</td>\n",
              "      <td>6</td>\n",
              "      <td>5</td>\n",
              "      <td>16</td>\n",
              "      <td>1</td>\n",
              "      <td>120</td>\n",
              "      <td>0.534179</td>\n",
              "    </tr>\n",
              "    <tr>\n",
              "      <th>4</th>\n",
              "      <td>HOU</td>\n",
              "      <td>HOU @ SAS</td>\n",
              "      <td>12/8/2022</td>\n",
              "      <td>L</td>\n",
              "      <td>48</td>\n",
              "      <td>109</td>\n",
              "      <td>44</td>\n",
              "      <td>98</td>\n",
              "      <td>44.9</td>\n",
              "      <td>10</td>\n",
              "      <td>...</td>\n",
              "      <td>26</td>\n",
              "      <td>42</td>\n",
              "      <td>23</td>\n",
              "      <td>14</td>\n",
              "      <td>3</td>\n",
              "      <td>4</td>\n",
              "      <td>19</td>\n",
              "      <td>-9</td>\n",
              "      <td>118</td>\n",
              "      <td>0.212645</td>\n",
              "    </tr>\n",
              "    <tr>\n",
              "      <th>...</th>\n",
              "      <td>...</td>\n",
              "      <td>...</td>\n",
              "      <td>...</td>\n",
              "      <td>...</td>\n",
              "      <td>...</td>\n",
              "      <td>...</td>\n",
              "      <td>...</td>\n",
              "      <td>...</td>\n",
              "      <td>...</td>\n",
              "      <td>...</td>\n",
              "      <td>...</td>\n",
              "      <td>...</td>\n",
              "      <td>...</td>\n",
              "      <td>...</td>\n",
              "      <td>...</td>\n",
              "      <td>...</td>\n",
              "      <td>...</td>\n",
              "      <td>...</td>\n",
              "      <td>...</td>\n",
              "      <td>...</td>\n",
              "      <td>...</td>\n",
              "    </tr>\n",
              "    <tr>\n",
              "      <th>3207</th>\n",
              "      <td>SAS</td>\n",
              "      <td>SAS @ DET</td>\n",
              "      <td>1/1/2022</td>\n",
              "      <td>L</td>\n",
              "      <td>53</td>\n",
              "      <td>116</td>\n",
              "      <td>42</td>\n",
              "      <td>102</td>\n",
              "      <td>41.2</td>\n",
              "      <td>12</td>\n",
              "      <td>...</td>\n",
              "      <td>35</td>\n",
              "      <td>48</td>\n",
              "      <td>30</td>\n",
              "      <td>17</td>\n",
              "      <td>8</td>\n",
              "      <td>3</td>\n",
              "      <td>27</td>\n",
              "      <td>-1</td>\n",
              "      <td>117</td>\n",
              "      <td>0.464651</td>\n",
              "    </tr>\n",
              "    <tr>\n",
              "      <th>3208</th>\n",
              "      <td>UTA</td>\n",
              "      <td>UTA vs. GSW</td>\n",
              "      <td>1/1/2022</td>\n",
              "      <td>L</td>\n",
              "      <td>48</td>\n",
              "      <td>116</td>\n",
              "      <td>40</td>\n",
              "      <td>92</td>\n",
              "      <td>43.5</td>\n",
              "      <td>14</td>\n",
              "      <td>...</td>\n",
              "      <td>30</td>\n",
              "      <td>45</td>\n",
              "      <td>19</td>\n",
              "      <td>13</td>\n",
              "      <td>7</td>\n",
              "      <td>0</td>\n",
              "      <td>21</td>\n",
              "      <td>-7</td>\n",
              "      <td>123</td>\n",
              "      <td>0.275518</td>\n",
              "    </tr>\n",
              "    <tr>\n",
              "      <th>3209</th>\n",
              "      <td>CHI</td>\n",
              "      <td>CHI @ WAS</td>\n",
              "      <td>1/1/2022</td>\n",
              "      <td>W</td>\n",
              "      <td>48</td>\n",
              "      <td>120</td>\n",
              "      <td>41</td>\n",
              "      <td>84</td>\n",
              "      <td>48.8</td>\n",
              "      <td>17</td>\n",
              "      <td>...</td>\n",
              "      <td>38</td>\n",
              "      <td>44</td>\n",
              "      <td>17</td>\n",
              "      <td>15</td>\n",
              "      <td>4</td>\n",
              "      <td>4</td>\n",
              "      <td>24</td>\n",
              "      <td>1</td>\n",
              "      <td>119</td>\n",
              "      <td>0.534464</td>\n",
              "    </tr>\n",
              "    <tr>\n",
              "      <th>3210</th>\n",
              "      <td>HOU</td>\n",
              "      <td>HOU vs. DEN</td>\n",
              "      <td>1/1/2022</td>\n",
              "      <td>L</td>\n",
              "      <td>48</td>\n",
              "      <td>111</td>\n",
              "      <td>37</td>\n",
              "      <td>85</td>\n",
              "      <td>43.5</td>\n",
              "      <td>16</td>\n",
              "      <td>...</td>\n",
              "      <td>23</td>\n",
              "      <td>36</td>\n",
              "      <td>20</td>\n",
              "      <td>18</td>\n",
              "      <td>10</td>\n",
              "      <td>4</td>\n",
              "      <td>24</td>\n",
              "      <td>-13</td>\n",
              "      <td>124</td>\n",
              "      <td>0.138549</td>\n",
              "    </tr>\n",
              "    <tr>\n",
              "      <th>3211</th>\n",
              "      <td>DET</td>\n",
              "      <td>DET vs. SAS</td>\n",
              "      <td>1/1/2022</td>\n",
              "      <td>W</td>\n",
              "      <td>53</td>\n",
              "      <td>117</td>\n",
              "      <td>41</td>\n",
              "      <td>101</td>\n",
              "      <td>40.6</td>\n",
              "      <td>9</td>\n",
              "      <td>...</td>\n",
              "      <td>41</td>\n",
              "      <td>63</td>\n",
              "      <td>18</td>\n",
              "      <td>21</td>\n",
              "      <td>12</td>\n",
              "      <td>6</td>\n",
              "      <td>23</td>\n",
              "      <td>1</td>\n",
              "      <td>116</td>\n",
              "      <td>0.535349</td>\n",
              "    </tr>\n",
              "  </tbody>\n",
              "</table>\n",
              "<p>3212 rows × 26 columns</p>\n",
              "</div>\n",
              "      <button class=\"colab-df-convert\" onclick=\"convertToInteractive('df-09804b82-c891-4d6f-be05-1ab564927ae6')\"\n",
              "              title=\"Convert this dataframe to an interactive table.\"\n",
              "              style=\"display:none;\">\n",
              "        \n",
              "  <svg xmlns=\"http://www.w3.org/2000/svg\" height=\"24px\"viewBox=\"0 0 24 24\"\n",
              "       width=\"24px\">\n",
              "    <path d=\"M0 0h24v24H0V0z\" fill=\"none\"/>\n",
              "    <path d=\"M18.56 5.44l.94 2.06.94-2.06 2.06-.94-2.06-.94-.94-2.06-.94 2.06-2.06.94zm-11 1L8.5 8.5l.94-2.06 2.06-.94-2.06-.94L8.5 2.5l-.94 2.06-2.06.94zm10 10l.94 2.06.94-2.06 2.06-.94-2.06-.94-.94-2.06-.94 2.06-2.06.94z\"/><path d=\"M17.41 7.96l-1.37-1.37c-.4-.4-.92-.59-1.43-.59-.52 0-1.04.2-1.43.59L10.3 9.45l-7.72 7.72c-.78.78-.78 2.05 0 2.83L4 21.41c.39.39.9.59 1.41.59.51 0 1.02-.2 1.41-.59l7.78-7.78 2.81-2.81c.8-.78.8-2.07 0-2.86zM5.41 20L4 18.59l7.72-7.72 1.47 1.35L5.41 20z\"/>\n",
              "  </svg>\n",
              "      </button>\n",
              "      \n",
              "  <style>\n",
              "    .colab-df-container {\n",
              "      display:flex;\n",
              "      flex-wrap:wrap;\n",
              "      gap: 12px;\n",
              "    }\n",
              "\n",
              "    .colab-df-convert {\n",
              "      background-color: #E8F0FE;\n",
              "      border: none;\n",
              "      border-radius: 50%;\n",
              "      cursor: pointer;\n",
              "      display: none;\n",
              "      fill: #1967D2;\n",
              "      height: 32px;\n",
              "      padding: 0 0 0 0;\n",
              "      width: 32px;\n",
              "    }\n",
              "\n",
              "    .colab-df-convert:hover {\n",
              "      background-color: #E2EBFA;\n",
              "      box-shadow: 0px 1px 2px rgba(60, 64, 67, 0.3), 0px 1px 3px 1px rgba(60, 64, 67, 0.15);\n",
              "      fill: #174EA6;\n",
              "    }\n",
              "\n",
              "    [theme=dark] .colab-df-convert {\n",
              "      background-color: #3B4455;\n",
              "      fill: #D2E3FC;\n",
              "    }\n",
              "\n",
              "    [theme=dark] .colab-df-convert:hover {\n",
              "      background-color: #434B5C;\n",
              "      box-shadow: 0px 1px 3px 1px rgba(0, 0, 0, 0.15);\n",
              "      filter: drop-shadow(0px 1px 2px rgba(0, 0, 0, 0.3));\n",
              "      fill: #FFFFFF;\n",
              "    }\n",
              "  </style>\n",
              "\n",
              "      <script>\n",
              "        const buttonEl =\n",
              "          document.querySelector('#df-09804b82-c891-4d6f-be05-1ab564927ae6 button.colab-df-convert');\n",
              "        buttonEl.style.display =\n",
              "          google.colab.kernel.accessAllowed ? 'block' : 'none';\n",
              "\n",
              "        async function convertToInteractive(key) {\n",
              "          const element = document.querySelector('#df-09804b82-c891-4d6f-be05-1ab564927ae6');\n",
              "          const dataTable =\n",
              "            await google.colab.kernel.invokeFunction('convertToInteractive',\n",
              "                                                     [key], {});\n",
              "          if (!dataTable) return;\n",
              "\n",
              "          const docLinkHtml = 'Like what you see? Visit the ' +\n",
              "            '<a target=\"_blank\" href=https://colab.research.google.com/notebooks/data_table.ipynb>data table notebook</a>'\n",
              "            + ' to learn more about interactive tables.';\n",
              "          element.innerHTML = '';\n",
              "          dataTable['output_type'] = 'display_data';\n",
              "          await google.colab.output.renderOutput(dataTable, element);\n",
              "          const docLink = document.createElement('div');\n",
              "          docLink.innerHTML = docLinkHtml;\n",
              "          element.appendChild(docLink);\n",
              "        }\n",
              "      </script>\n",
              "    </div>\n",
              "  </div>\n",
              "  "
            ]
          },
          "metadata": {},
          "execution_count": 181
        }
      ]
    },
    {
      "cell_type": "markdown",
      "source": [
        "## VII. Team Performance Metrics\n",
        "So far, our main focus of response variable is on Win/Loss, which can be explained well with the ”Four\n",
        "Factors” metrics and fairly well with basic and advanced statistics. While many kinds of raw data and\n",
        "advanced data can be fairly informative, the need for much more generalizable performance metrics is\n",
        "on the rise. These metrics are sometimes calculated from raw/advanced data, and sometimes measured\n",
        "by hand. Compared with predicting 0/1 responses, it is easier to correlate the statistics with numerical\n",
        "measures, and the results are usually more informative and robust for studies.\n",
        "\n",
        "The key question for this section is: Can we measure the performance of a team and learn what con\u0002tributes to most of it? We can use many different metrics to measure the bigger picture."
      ],
      "metadata": {
        "id": "xixEiMm5zzVQ"
      }
    },
    {
      "cell_type": "markdown",
      "source": [
        "## 7.1 Points Differential\n",
        "\n",
        "Points differential is calculated by the points scored by the home team subtracted by the points scored\n",
        "by the visiting team. Thus it can not equal to 0. If we randomly sample some data, it would look like this:"
      ],
      "metadata": {
        "id": "spZGmn1X0AXe"
      }
    },
    {
      "cell_type": "markdown",
      "source": [
        "**Use Quantile Regression on Points Differential**"
      ],
      "metadata": {
        "id": "AMEmAGmAiv4L"
      }
    },
    {
      "cell_type": "code",
      "source": [
        "df_p0 = pd.read_csv('/content/sample_data/box_score.csv')\n",
        "df_p0 = df_p0.dropna(axis=0)\n",
        "df_p0 = df_p0.rename(columns = {'DATE':'GAME_DATE'})\n",
        "df_p = df_p0.loc[:,~df_p0.columns.isin(['GAME_DATE', 'MATCH_UP', 'TEAM', 'MIN', 'REB', 'W_L'])]\n",
        "df_p = df_p[df_p['PD'] > 0]\n",
        "\n",
        "x_p = df_p.loc[:,df_p.columns != 'PD'].reset_index(drop = True) \n",
        "x_pnorm = (x_p - x_p.mean()) / (x_p.max() - x_p.min())\n",
        "x_p[x_pnorm.columns] = x_pnorm\n",
        "y_p = df_p.loc[:,df_p.columns == 'PD'].reset_index(drop = True)\n",
        "df_p[x_pnorm.columns] = x_pnorm"
      ],
      "metadata": {
        "id": "Ay7m7eWfiyRd"
      },
      "execution_count": null,
      "outputs": []
    },
    {
      "cell_type": "code",
      "source": [
        "len(df_p) #.head(5)"
      ],
      "metadata": {
        "colab": {
          "base_uri": "https://localhost:8080/"
        },
        "id": "TneJ_7NjumQ_",
        "outputId": "4f81a113-965c-46d5-cd73-ab318f03c97d"
      },
      "execution_count": null,
      "outputs": [
        {
          "output_type": "execute_result",
          "data": {
            "text/plain": [
              "1606"
            ]
          },
          "metadata": {},
          "execution_count": 107
        }
      ]
    },
    {
      "cell_type": "code",
      "source": [
        "plt.hist(df_p['PD'], 100)"
      ],
      "metadata": {
        "id": "-EiBYLTYi-qB"
      },
      "execution_count": null,
      "outputs": []
    },
    {
      "cell_type": "markdown",
      "source": [
        "Point differential is approximately a Long-Tail Distribution, but the eaxt distribution to be used is unknown.\n",
        "\n",
        "Reference:\n",
        "https://statmodeling.stat.columbia.edu/2014/02/25/differential/"
      ],
      "metadata": {
        "id": "TKsd_C0qoU8X"
      }
    },
    {
      "cell_type": "markdown",
      "source": [
        "We observe that points differential follows a bimodal distribution that is symmetric to 0. If a complete\n",
        "data with all games is included, then it is perfectly symmetric and contains redundant information(the\n",
        "data for both teams in a game would be included). If we take the only one side of it, then it roughly\n",
        "follows a poisson distribution. We can use non-linear or quantile regression to measure the relationship\n",
        "between points differential and other factors."
      ],
      "metadata": {
        "id": "Z1VVJJGn0HwQ"
      }
    },
    {
      "cell_type": "markdown",
      "source": [
        "### 7.2 Simulation Study\n",
        "\n",
        "Since the distribution is bimodal, regressing with respect to the mean would be meaningless. Here we\n",
        "use quantile regression and the raw data mentioned in Section 5 and four factors in Section 6."
      ],
      "metadata": {
        "id": "14oL-xRc0QkV"
      }
    },
    {
      "cell_type": "code",
      "source": [
        "# fit the model\n",
        "q_pd = smf.quantreg('PD ~ PTS+FGM+FG+TP+FTM+FT+OREB+DREB+AST+TOV+STL+BLK+PF',\n",
        "                     df_p).fit(q=0.95)\n",
        " \n",
        "# view model summary\n",
        "print(q_pd.summary())"
      ],
      "metadata": {
        "id": "3teyCSoCxO0g"
      },
      "execution_count": null,
      "outputs": []
    },
    {
      "cell_type": "code",
      "source": [
        "# fit the model\n",
        "q_pd = smf.quantreg('PD ~ PTS+FGM+FG+TP+FTM+FT+OREB+DREB+AST+TOV+STL+BLK+PF',\n",
        "                     df_p).fit(q=0.75)\n",
        " \n",
        "# view model summary\n",
        "print(q_pd.summary())"
      ],
      "metadata": {
        "id": "MOnPrvzfIP6H"
      },
      "execution_count": null,
      "outputs": []
    },
    {
      "cell_type": "code",
      "source": [
        "# fit the model\n",
        "q_pd = smf.quantreg('PD ~ PTS+FGM+FG+TP+FTM+FT+OREB+DREB+AST+TOV+STL+BLK+PF',\n",
        "                     df_p).fit(q=0.25)\n",
        " \n",
        "# view model summary\n",
        "print(q_pd.summary())"
      ],
      "metadata": {
        "id": "7pEhLUZzIQBl"
      },
      "execution_count": null,
      "outputs": []
    },
    {
      "cell_type": "code",
      "source": [
        "# fit the model\n",
        "q_pd = smf.quantreg('PD ~ PTS+FGM+FG+TP+FTM+FT+OREB+DREB+AST+TOV+STL+BLK+PF',\n",
        "                     df_p).fit(q=0.1)\n",
        " \n",
        "# view model summary\n",
        "print(q_pd.summary())"
      ],
      "metadata": {
        "id": "h_nswbnaIQGJ"
      },
      "execution_count": null,
      "outputs": []
    },
    {
      "cell_type": "markdown",
      "source": [
        "**Conclusion**\n",
        "This is almost saying our model is useless and a linear regression should be used instead. Therefore in\n",
        "the chapters below, we will stick to linear regression.\n",
        "- Using quantile regression we do not observe any useful information. The coefficients are almost the same for each quantile, I have no idea."
      ],
      "metadata": {
        "id": "s9l9-cJvrdqj"
      }
    },
    {
      "cell_type": "markdown",
      "source": [
        "**Join 4-factors with box score**"
      ],
      "metadata": {
        "id": "d5kizZQZru-_"
      }
    },
    {
      "cell_type": "code",
      "source": [
        "# Join four factors with box score\n",
        "df4all = pd.merge(df, df_four, on = ['TEAM', 'GAME_DATE'])\n",
        "df4pd = df4all[['EFG%','FTR','TOV%','OREB%','OPPEFG%','OPPFTR','OPPTOV%','OPPOREB%','PD']]\n",
        "df4pd.columns = ['EFG',\t'FTR',\t'TOV',\t'OREB',\t'OPPEFG',\t'OPPFTR',\t'OPPTOV',\t'OPPOREB', 'PD']\n",
        "df4pd = df4pd[df4pd['PD']>0]"
      ],
      "metadata": {
        "id": "iZw7MooexO7k"
      },
      "execution_count": null,
      "outputs": []
    },
    {
      "cell_type": "code",
      "source": [
        "df4pd"
      ],
      "metadata": {
        "id": "A1J0XXsplswf"
      },
      "execution_count": null,
      "outputs": []
    },
    {
      "cell_type": "code",
      "source": [
        "x4pd = df4pd[['EFG',\t'FTR',\t'TOV',\t'OREB',\t'OPPEFG',\t'OPPFTR',\t'OPPTOV',\t'OPPOREB']]\n",
        "x4n = (x4pd - x4pd.mean()) / (x4pd.max() - x4pd.min())\n",
        "df4pd[x4n.columns] = x4n"
      ],
      "metadata": {
        "id": "Irt1nsBk7tgc"
      },
      "execution_count": null,
      "outputs": []
    },
    {
      "cell_type": "code",
      "source": [
        "# fit the model\n",
        "q_4pd = smf.quantreg('PD ~ EFG+FTR+TOV+OREB+OPPEFG+OPPFTR+OPPTOV+OPPOREB',\n",
        "                     df4pd).fit(q=0.05)\n",
        " \n",
        "# view model summary\n",
        "print(q_4pd.summary().tables[1])"
      ],
      "metadata": {
        "id": "kK011XTyvCw8"
      },
      "execution_count": null,
      "outputs": []
    },
    {
      "cell_type": "code",
      "source": [
        "q_4pd.summary().tables[1]"
      ],
      "metadata": {
        "id": "2_oQdshMIdBe"
      },
      "execution_count": null,
      "outputs": []
    },
    {
      "cell_type": "code",
      "source": [
        "# fit the model\n",
        "q_4pd = smf.quantreg('PD ~ EFG+FTR+TOV+OREB+OPPEFG+OPPFTR+OPPTOV+OPPOREB',\n",
        "                     df4pd).fit(q=0.9)\n",
        " \n",
        "# view model summary\n",
        "q_4pd.summary().tables[1]"
      ],
      "metadata": {
        "id": "PBvS7u7svCzO"
      },
      "execution_count": null,
      "outputs": []
    },
    {
      "cell_type": "code",
      "source": [
        "# fit the model\n",
        "q_4ols = smf.ols('PD ~ EFG+FTR+TOV+OREB+OPPEFG+OPPFTR+OPPTOV+OPPOREB',\n",
        "                     df4pd).fit()\n",
        " \n",
        "# view model summary\n",
        "print(q_4ols.summary())"
      ],
      "metadata": {
        "id": "RwTt_CHc5lS_"
      },
      "execution_count": null,
      "outputs": []
    },
    {
      "cell_type": "code",
      "source": [],
      "metadata": {
        "id": "oEIndv5V5lVv"
      },
      "execution_count": null,
      "outputs": []
    },
    {
      "cell_type": "markdown",
      "source": [
        "**Use Linear Regression to predict Winning Percentage**"
      ],
      "metadata": {
        "id": "_3lmd0DdwwXr"
      }
    },
    {
      "cell_type": "code",
      "source": [
        "df4all = pd.merge(df,df_four, on = ['TEAM', 'GAME_DATE'])\n",
        "df4all = df4all[['TEAM','EFG%','FTR','TOV%','OREB%','OPPEFG%','OPPFTR','OPPTOV%','OPPOREB%','PD']]\n",
        "df4all.columns = ['TEAM','EFG',\t'FTR',\t'TOV',\t'OREB',\t'OPPEFG',\t'OPPFTR',\t'OPPTOV',\t'OPPOREB', 'PD']\n",
        "# df4all = df4all[df4all['PD']>0]\n",
        "dfwp = pd.concat([df4all.groupby('TEAM').mean().iloc[:,:-1], df4all.groupby('TEAM').mean()['PD']], axis=1).reset_index(drop=True)\n",
        "dfwp['WP'] = (dfwp['PD'] * 2.7 + 41) / 82\n",
        "\n",
        "x = dfwp.iloc[:,:-1]\n",
        "xn = (x - x.mean()) / (x.max() - x.min())\n",
        "dfwp[xn.columns] = xn"
      ],
      "metadata": {
        "id": "eejbSRIUx7l0"
      },
      "execution_count": null,
      "outputs": []
    },
    {
      "cell_type": "code",
      "source": [
        "dfwp"
      ],
      "metadata": {
        "id": "0e-c2xSe5lYY"
      },
      "execution_count": null,
      "outputs": []
    },
    {
      "cell_type": "code",
      "source": [
        "# fit the model\n",
        "ols_wp = smf.ols('WP ~ EFG+FTR+TOV+OREB+OPPEFG+OPPFTR+OPPTOV+OPPOREB',\n",
        "                     dfwp).fit()\n",
        "\n",
        "# view model summary\n",
        "print(ols_wp.summary())"
      ],
      "metadata": {
        "id": "S6ERpBbf5lbb"
      },
      "execution_count": null,
      "outputs": []
    },
    {
      "cell_type": "markdown",
      "source": [
        "### 7.3 Winning Percentage"
      ],
      "metadata": {
        "id": "bSsQ0Z3Q0sFX"
      }
    },
    {
      "cell_type": "markdown",
      "source": [
        "The actually winning percentage is calculated by\n",
        "\n",
        "$$\\frac{NumberOfGamesWon}{NumberOfGamesPlayed}$$\n",
        "\n",
        "It is a strong indicator of how well the team played. In analytical tasks, people want to project this\n",
        "ratio by analyzing current data. Winning percentage usually has 2 types: projected winning percentage\n",
        "and Pythagorean winning percentage. Projected Winning Percentage is a formula that simply uses a\n",
        "team’s net overall point differential rather than points scored and point allowed. Each point differential\n",
        "translates to 2.7 wins over the course of the season. In NBA, this ratio is calculated from the total number\n",
        "of games in a regular season: 82 games.\n",
        "\n",
        "$$P rojectedW inningP ercentage(NBA basketball) = \\frac{P ointsDifferential × 2.7) + 41}{82}$$\n",
        "\n",
        "Pythagorean Winning Percentage is a method that gives an expected winning percentage using the ratio\n",
        "of a team’s wins and losses are related to the number of points scored and allowed. It was first created\n",
        "by Baseball analyst Bill James from the intuition that a team’s expected wins is observed from the total\n",
        "runs scored and total runs allowed. The theoretical explanation is later given by mathematician Steven\n",
        "J. Miller, which states that if each run follows a Weibull distribution and the runs scored and allowed\n",
        "per game are statistically independent, then the Pythagorean Winning Percentage gives the probability\n",
        "of winning. [Miller (2007). ”A Derivation of the Pythagorean Won-Loss Formula in Baseball”. Chance.\n",
        "20: 40–48. arXiv:math/0509698. Bibcode:2005math......9698M.]\n",
        "\n",
        "$$P ythagoreanW inningP ercentage(basketball) = \\frac{P ointsScored16.5}{P ointsScored16.5 + P ointsAllowed16.5}$$\n",
        "\n",
        "The power of 16.5 specifically for basketball is calculated by basketball statistician John Hollinger. NBA\n",
        "executive Daryl Morey has his version where the power is 13.91. In other sports, different powers are\n",
        "used. For example, the power is 2.37 for the calculation of American Football.\n",
        "\n",
        "Competitive Balance Ratio (CBR) is a metric that reflects team-specific variation in winning percentage\n",
        "over time and league-specific variation. Variation in the CBR explains also explains variation in the\n",
        "annual attendance in professional sports more significantly than other alternatives measures do. Besides\n",
        "attendance numbers, we also think NBA’s TV ratings slump has to do with a low competitive balance\n",
        "ratio in the recent seasons.\n"
      ],
      "metadata": {
        "id": "NXHz6UWq5a09"
      }
    },
    {
      "cell_type": "markdown",
      "source": [
        "### 7.4 Simulation Study\n",
        "\n",
        "**Projected Winning Percentage**\n",
        "\n",
        "From the results from running an linear regression on projected winning percentage with the predictors\n",
        "being the ”four factors”, we observe a highly reliable model with R2 of 0.99. The mean winning per\u0002centage is expected to be 0.5. We see a relatively stronger signal for TOV(turnover) percentage for both\n",
        "home team and opposing team.\n",
        "\n",
        "*DATA MISSING*"
      ],
      "metadata": {
        "id": "-PNfTXYu6jH_"
      }
    },
    {
      "cell_type": "markdown",
      "source": [
        "**Pythagorean Winning Percentage**"
      ],
      "metadata": {
        "id": "kn7cIt2w83Nq"
      }
    },
    {
      "cell_type": "code",
      "source": [
        "df_p0['AWAYPTS'] = df_p0['PTS'] - df_p0['PD']\n",
        "df4all = pd.merge(df_p0,df40, on = ['TEAM', 'GAME_DATE'])\n",
        "df4all = df4all[['TEAM','EFG%','FTR','TOV%','OREB%','OPPEFG%','OPPFTR','OPPTOV%','OPPOREB%','PTS','AWAYPTS']]\n",
        "df4all.columns = ['TEAM','EFG',\t'FTR',\t'TOV',\t'OREB',\t'OPPEFG',\t'OPPFTR',\t'OPPTOV',\t'OPPOREB', 'PTS','AWAYPTS']\n",
        "\n",
        "dfpwp = pd.concat([df4all.groupby('TEAM').mean().iloc[:,:-2], df4all.groupby('TEAM').mean()[['PTS','AWAYPTS']]], axis=1).reset_index(drop=True)\n",
        "\n",
        "x = dfpwp.iloc[:,:-2]\n",
        "xn = (x - x.mean()) / (x.max() - x.min())\n",
        "dfpwp[xn.columns] = xn\n",
        "\n",
        "dfpwp['PWP'] = (dfpwp['PTS']**16.5 / (dfpwp['PTS']**16.5 + dfpwp['AWAYPTS']**16.5))\n",
        "dfpwp = dfpwp[['EFG',\t'FTR',\t'TOV',\t'OREB',\t'OPPEFG',\t'OPPFTR',\t'OPPTOV',\t'OPPOREB', 'PWP']]"
      ],
      "metadata": {
        "id": "qfuoXtTJ5leo"
      },
      "execution_count": null,
      "outputs": []
    },
    {
      "cell_type": "code",
      "source": [
        "dfpwp"
      ],
      "metadata": {
        "id": "hE_nETJW5liU"
      },
      "execution_count": null,
      "outputs": []
    },
    {
      "cell_type": "code",
      "source": [
        "# fit the model\n",
        "ols_pwp = smf.ols('PWP ~ EFG+FTR+TOV+OREB+OPPEFG+OPPFTR+OPPTOV+OPPOREB',\n",
        "                     dfpwp).fit()\n",
        " \n",
        "# view model summary\n",
        "print(ols_pwp.summary())"
      ],
      "metadata": {
        "id": "DCRYwk065l3x"
      },
      "execution_count": null,
      "outputs": []
    },
    {
      "cell_type": "markdown",
      "source": [
        "We observe that using these numeric measures could yield very confident regression models, each with\n",
        "R2 over 0.9. We also observe that the coefficients are close to logistic regression results for four factors\n",
        "in terms of the relative magnitude, like EFG being the most impactful variable. Hence we can say that\n",
        "the coefficients correspond to the realistic impact from these factors."
      ],
      "metadata": {
        "id": "v7uiXiW7y1fo"
      }
    },
    {
      "cell_type": "markdown",
      "source": [],
      "metadata": {
        "id": "gKTvnvG6y19s"
      }
    },
    {
      "cell_type": "markdown",
      "source": [
        "## VIII. Non-fitting Methods"
      ],
      "metadata": {
        "id": "ijC282qfsE4v"
      }
    },
    {
      "cell_type": "markdown",
      "source": [
        "### 8.1 Regression Tree\n",
        "Non-parametric models do not assume underlying distributions. It is beneficial in that they are more\n",
        "practical but they are hard to interpret.Below is the results from running regression trees on raw data/advanced data/four factors;\n",
        "We run CART on all data sets, where the importance of each variable is plotted. We can see they align mostly with regression results."
      ],
      "metadata": {
        "id": "HmoGabsk8LaW"
      }
    },
    {
      "cell_type": "markdown",
      "source": [
        "**CART**"
      ],
      "metadata": {
        "id": "htIuSrSUNqBD"
      }
    },
    {
      "cell_type": "code",
      "source": [
        "from sklearn.metrics import classification_report # for model evaluation metrics\n",
        "from sklearn import tree # for decision tree models\n",
        "\n",
        "import plotly.express as px  # for data visualization\n",
        "import plotly.graph_objects as go # for data visualization\n",
        "import graphviz # for plotting decision tree graphs\n"
      ],
      "metadata": {
        "id": "Ay46Ztxi5l6b"
      },
      "execution_count": null,
      "outputs": []
    },
    {
      "cell_type": "code",
      "source": [
        "clf = tree.DecisionTreeClassifier()\n",
        "clf = clf.fit(x_train, y_train)"
      ],
      "metadata": {
        "id": "LSx5BbMuNpkA"
      },
      "execution_count": null,
      "outputs": []
    },
    {
      "cell_type": "code",
      "source": [
        "importance = clft.feature_importances_"
      ],
      "metadata": {
        "id": "jVExbKuIXlID"
      },
      "execution_count": null,
      "outputs": []
    },
    {
      "cell_type": "code",
      "source": [
        "importance"
      ],
      "metadata": {
        "colab": {
          "base_uri": "https://localhost:8080/"
        },
        "id": "-JlZgq3gXnq6",
        "outputId": "1169e311-e7ad-4478-eb47-c5b6f6848c15"
      },
      "execution_count": null,
      "outputs": [
        {
          "output_type": "execute_result",
          "data": {
            "text/plain": [
              "array([0.0472305 , 0.09787169, 0.05204726, 0.07281392, 0.08684603,\n",
              "       0.16113569, 0.06750995, 0.060391  , 0.29247631, 0.06167764])"
            ]
          },
          "metadata": {},
          "execution_count": 281
        }
      ]
    },
    {
      "cell_type": "code",
      "source": [
        "xa_train.columns"
      ],
      "metadata": {
        "colab": {
          "base_uri": "https://localhost:8080/"
        },
        "id": "tngHajxoXo7j",
        "outputId": "50ba5083-6a42-4358-d059-298fb0bc2097"
      },
      "execution_count": null,
      "outputs": [
        {
          "output_type": "execute_result",
          "data": {
            "text/plain": [
              "Index(['AST%', 'AST/TO', 'ASTRAT', 'OREB%', 'DREB%', 'REB%', 'TOV%', 'EFG%',\n",
              "       'TS%', 'PACE'],\n",
              "      dtype='object')"
            ]
          },
          "metadata": {},
          "execution_count": 279
        }
      ]
    },
    {
      "cell_type": "code",
      "source": [
        "accuracy_score(y_test, list(map(round, clf.predict(x_test))))"
      ],
      "metadata": {
        "colab": {
          "base_uri": "https://localhost:8080/"
        },
        "id": "mqxLjcpGPXJO",
        "outputId": "9498ada6-1514-4964-8288-bb7497d98849"
      },
      "execution_count": null,
      "outputs": [
        {
          "output_type": "execute_result",
          "data": {
            "text/plain": [
              "0.68"
            ]
          },
          "metadata": {},
          "execution_count": 220
        }
      ]
    },
    {
      "cell_type": "code",
      "source": [
        "temp = pd.DataFrame({'Var': ['AST%', 'AST/TO', 'ASTRAT', 'OREB%', 'DREB%', 'REB%', 'TOV%', 'EFG%',\n",
        "       'TS%', 'PACE'],\n",
        "       'Importance':[0.0472305 , 0.09787169, 0.05204726, 0.07281392, 0.08684603,\n",
        "       0.16113569, 0.06750995, 0.060391  , 0.29247631, 0.06167764]})"
      ],
      "metadata": {
        "id": "fgkWU6B-Pt7e"
      },
      "execution_count": null,
      "outputs": []
    },
    {
      "cell_type": "code",
      "source": [
        "tree.plot_tree(clf)"
      ],
      "metadata": {
        "id": "3ki175v6Ott5"
      },
      "execution_count": null,
      "outputs": []
    },
    {
      "cell_type": "code",
      "source": [
        "dfa = pd.read_csv('/content/sample_data/advanced_box_score_2023.csv', encoding='latin-1')\n",
        "dfa['W/L'] = pd.get_dummies(dfa['W/L'])['W']\n",
        "dfa_1 = dfa.loc[:,~dfa.columns.isin(['TEAM','MATCH_UP','GAME_DATE','MIN','OFFRTG','DEFRTG','NETRTG','PIE'])]\n",
        "dfa_1 = dfa_1.dropna()\n",
        "\n",
        "xa_1 = dfa_1.loc[:,dfa_1.columns != 'W/L'].reset_index(drop = True) \n",
        "# xa_n = (xa_1 - xa_1.mean()) / (xa_1.max() - xa_1.min())\n",
        "# xa_1[xa_n.columns] = xa_n\n",
        "ya_1 = dfa_1.loc[:,dfa_1.columns == 'W/L'].reset_index(drop = True)\n",
        "ya_1 = ya_1['W/L']"
      ],
      "metadata": {
        "id": "3MiUm7lRNpmO"
      },
      "execution_count": null,
      "outputs": []
    },
    {
      "cell_type": "code",
      "source": [
        "clft = tree.DecisionTreeRegressor()\n",
        "clft = clft.fit(x_train, y_train)"
      ],
      "metadata": {
        "id": "k1P1l68LPL4j"
      },
      "execution_count": null,
      "outputs": []
    },
    {
      "cell_type": "code",
      "source": [
        "accuracy_score(y_test, list(map(round, clft.predict(x_test))))"
      ],
      "metadata": {
        "colab": {
          "base_uri": "https://localhost:8080/"
        },
        "id": "5-PHPM8MPmA9",
        "outputId": "e0f51194-b0e5-4200-ead2-3cfae55424ed"
      },
      "execution_count": null,
      "outputs": [
        {
          "output_type": "execute_result",
          "data": {
            "text/plain": [
              "0.705"
            ]
          },
          "metadata": {},
          "execution_count": 222
        }
      ]
    },
    {
      "cell_type": "code",
      "source": [
        "clft = tree.DecisionTreeRegressor()\n",
        "clft = clft.fit(xa_train, ya_train)"
      ],
      "metadata": {
        "id": "pplsaccoP1-g"
      },
      "execution_count": null,
      "outputs": []
    },
    {
      "cell_type": "code",
      "source": [
        "accuracy_score(ya_test, list(map(round, clft.predict(xa_test))))"
      ],
      "metadata": {
        "colab": {
          "base_uri": "https://localhost:8080/"
        },
        "id": "6sDrn1nBP5ne",
        "outputId": "b1d0aab9-7600-40ce-98ce-8c87787a1adb"
      },
      "execution_count": null,
      "outputs": [
        {
          "output_type": "execute_result",
          "data": {
            "text/plain": [
              "0.6858475894245724"
            ]
          },
          "metadata": {},
          "execution_count": 227
        }
      ]
    },
    {
      "cell_type": "code",
      "source": [
        "clft = tree.DecisionTreeRegressor()\n",
        "clft = clft.fit(x4_train, y4_train)"
      ],
      "metadata": {
        "id": "6Ngd3VnSQCuw"
      },
      "execution_count": null,
      "outputs": []
    },
    {
      "cell_type": "code",
      "source": [
        "x4_train.columns"
      ],
      "metadata": {
        "colab": {
          "base_uri": "https://localhost:8080/"
        },
        "id": "XCrZ4PRXVNrw",
        "outputId": "65d2341d-8552-4477-e1ff-769c7644832d"
      },
      "execution_count": null,
      "outputs": [
        {
          "output_type": "execute_result",
          "data": {
            "text/plain": [
              "Index(['HOME', 'EFG', 'FTR', 'TOV', 'OREB', 'OPPEFG', 'OPPFTR', 'OPPTOV',\n",
              "       'OPPOREB'],\n",
              "      dtype='object')"
            ]
          },
          "metadata": {},
          "execution_count": 242
        }
      ]
    },
    {
      "cell_type": "code",
      "source": [
        "temp = pd.DataFrame({'Var': ['HOME', 'EFG', 'FTR', 'TOV', 'OREB', 'OPPEFG', 'OPPFTR', 'OPPTOV',\n",
        "       'OPPOREB'],\n",
        "       'Importance': [0.00659896, 0.29037141, 0.04570097, 0.08860581, 0.07314298,\n",
        "       0.30450245, 0.03882786, 0.08862623, 0.06362334]})"
      ],
      "metadata": {
        "id": "jJlB2_PYWK5b"
      },
      "execution_count": null,
      "outputs": []
    },
    {
      "cell_type": "code",
      "source": [
        "temp"
      ],
      "metadata": {
        "colab": {
          "base_uri": "https://localhost:8080/",
          "height": 332
        },
        "id": "riXakGc7VvLz",
        "outputId": "85558925-7d5d-43c5-e077-4f8c2f36b805"
      },
      "execution_count": null,
      "outputs": [
        {
          "output_type": "execute_result",
          "data": {
            "text/plain": [
              "       Var  Importance\n",
              "0     HOME    0.006599\n",
              "1      EFG    0.290371\n",
              "2      FTR    0.045701\n",
              "3      TOV    0.088606\n",
              "4     OREB    0.073143\n",
              "5   OPPEFG    0.304502\n",
              "6   OPPFTR    0.038828\n",
              "7   OPPTOV    0.088626\n",
              "8  OPPOREB    0.063623"
            ],
            "text/html": [
              "\n",
              "  <div id=\"df-b3ce75ec-9033-42a7-b751-025a508d9c7c\">\n",
              "    <div class=\"colab-df-container\">\n",
              "      <div>\n",
              "<style scoped>\n",
              "    .dataframe tbody tr th:only-of-type {\n",
              "        vertical-align: middle;\n",
              "    }\n",
              "\n",
              "    .dataframe tbody tr th {\n",
              "        vertical-align: top;\n",
              "    }\n",
              "\n",
              "    .dataframe thead th {\n",
              "        text-align: right;\n",
              "    }\n",
              "</style>\n",
              "<table border=\"1\" class=\"dataframe\">\n",
              "  <thead>\n",
              "    <tr style=\"text-align: right;\">\n",
              "      <th></th>\n",
              "      <th>Var</th>\n",
              "      <th>Importance</th>\n",
              "    </tr>\n",
              "  </thead>\n",
              "  <tbody>\n",
              "    <tr>\n",
              "      <th>0</th>\n",
              "      <td>HOME</td>\n",
              "      <td>0.006599</td>\n",
              "    </tr>\n",
              "    <tr>\n",
              "      <th>1</th>\n",
              "      <td>EFG</td>\n",
              "      <td>0.290371</td>\n",
              "    </tr>\n",
              "    <tr>\n",
              "      <th>2</th>\n",
              "      <td>FTR</td>\n",
              "      <td>0.045701</td>\n",
              "    </tr>\n",
              "    <tr>\n",
              "      <th>3</th>\n",
              "      <td>TOV</td>\n",
              "      <td>0.088606</td>\n",
              "    </tr>\n",
              "    <tr>\n",
              "      <th>4</th>\n",
              "      <td>OREB</td>\n",
              "      <td>0.073143</td>\n",
              "    </tr>\n",
              "    <tr>\n",
              "      <th>5</th>\n",
              "      <td>OPPEFG</td>\n",
              "      <td>0.304502</td>\n",
              "    </tr>\n",
              "    <tr>\n",
              "      <th>6</th>\n",
              "      <td>OPPFTR</td>\n",
              "      <td>0.038828</td>\n",
              "    </tr>\n",
              "    <tr>\n",
              "      <th>7</th>\n",
              "      <td>OPPTOV</td>\n",
              "      <td>0.088626</td>\n",
              "    </tr>\n",
              "    <tr>\n",
              "      <th>8</th>\n",
              "      <td>OPPOREB</td>\n",
              "      <td>0.063623</td>\n",
              "    </tr>\n",
              "  </tbody>\n",
              "</table>\n",
              "</div>\n",
              "      <button class=\"colab-df-convert\" onclick=\"convertToInteractive('df-b3ce75ec-9033-42a7-b751-025a508d9c7c')\"\n",
              "              title=\"Convert this dataframe to an interactive table.\"\n",
              "              style=\"display:none;\">\n",
              "        \n",
              "  <svg xmlns=\"http://www.w3.org/2000/svg\" height=\"24px\"viewBox=\"0 0 24 24\"\n",
              "       width=\"24px\">\n",
              "    <path d=\"M0 0h24v24H0V0z\" fill=\"none\"/>\n",
              "    <path d=\"M18.56 5.44l.94 2.06.94-2.06 2.06-.94-2.06-.94-.94-2.06-.94 2.06-2.06.94zm-11 1L8.5 8.5l.94-2.06 2.06-.94-2.06-.94L8.5 2.5l-.94 2.06-2.06.94zm10 10l.94 2.06.94-2.06 2.06-.94-2.06-.94-.94-2.06-.94 2.06-2.06.94z\"/><path d=\"M17.41 7.96l-1.37-1.37c-.4-.4-.92-.59-1.43-.59-.52 0-1.04.2-1.43.59L10.3 9.45l-7.72 7.72c-.78.78-.78 2.05 0 2.83L4 21.41c.39.39.9.59 1.41.59.51 0 1.02-.2 1.41-.59l7.78-7.78 2.81-2.81c.8-.78.8-2.07 0-2.86zM5.41 20L4 18.59l7.72-7.72 1.47 1.35L5.41 20z\"/>\n",
              "  </svg>\n",
              "      </button>\n",
              "      \n",
              "  <style>\n",
              "    .colab-df-container {\n",
              "      display:flex;\n",
              "      flex-wrap:wrap;\n",
              "      gap: 12px;\n",
              "    }\n",
              "\n",
              "    .colab-df-convert {\n",
              "      background-color: #E8F0FE;\n",
              "      border: none;\n",
              "      border-radius: 50%;\n",
              "      cursor: pointer;\n",
              "      display: none;\n",
              "      fill: #1967D2;\n",
              "      height: 32px;\n",
              "      padding: 0 0 0 0;\n",
              "      width: 32px;\n",
              "    }\n",
              "\n",
              "    .colab-df-convert:hover {\n",
              "      background-color: #E2EBFA;\n",
              "      box-shadow: 0px 1px 2px rgba(60, 64, 67, 0.3), 0px 1px 3px 1px rgba(60, 64, 67, 0.15);\n",
              "      fill: #174EA6;\n",
              "    }\n",
              "\n",
              "    [theme=dark] .colab-df-convert {\n",
              "      background-color: #3B4455;\n",
              "      fill: #D2E3FC;\n",
              "    }\n",
              "\n",
              "    [theme=dark] .colab-df-convert:hover {\n",
              "      background-color: #434B5C;\n",
              "      box-shadow: 0px 1px 3px 1px rgba(0, 0, 0, 0.15);\n",
              "      filter: drop-shadow(0px 1px 2px rgba(0, 0, 0, 0.3));\n",
              "      fill: #FFFFFF;\n",
              "    }\n",
              "  </style>\n",
              "\n",
              "      <script>\n",
              "        const buttonEl =\n",
              "          document.querySelector('#df-b3ce75ec-9033-42a7-b751-025a508d9c7c button.colab-df-convert');\n",
              "        buttonEl.style.display =\n",
              "          google.colab.kernel.accessAllowed ? 'block' : 'none';\n",
              "\n",
              "        async function convertToInteractive(key) {\n",
              "          const element = document.querySelector('#df-b3ce75ec-9033-42a7-b751-025a508d9c7c');\n",
              "          const dataTable =\n",
              "            await google.colab.kernel.invokeFunction('convertToInteractive',\n",
              "                                                     [key], {});\n",
              "          if (!dataTable) return;\n",
              "\n",
              "          const docLinkHtml = 'Like what you see? Visit the ' +\n",
              "            '<a target=\"_blank\" href=https://colab.research.google.com/notebooks/data_table.ipynb>data table notebook</a>'\n",
              "            + ' to learn more about interactive tables.';\n",
              "          element.innerHTML = '';\n",
              "          dataTable['output_type'] = 'display_data';\n",
              "          await google.colab.output.renderOutput(dataTable, element);\n",
              "          const docLink = document.createElement('div');\n",
              "          docLink.innerHTML = docLinkHtml;\n",
              "          element.appendChild(docLink);\n",
              "        }\n",
              "      </script>\n",
              "    </div>\n",
              "  </div>\n",
              "  "
            ]
          },
          "metadata": {},
          "execution_count": 253
        }
      ]
    },
    {
      "cell_type": "code",
      "source": [
        "temp = temp.sort_values('Importance')"
      ],
      "metadata": {
        "id": "HX5u_NZmWYr2"
      },
      "execution_count": null,
      "outputs": []
    },
    {
      "cell_type": "code",
      "source": [
        "temp.plot.scatter('Importance', 'Var')"
      ],
      "metadata": {
        "colab": {
          "base_uri": "https://localhost:8080/",
          "height": 296
        },
        "id": "kXOwfkUZWwdN",
        "outputId": "6fc34e36-5d02-48d1-ed84-e25ba41be714"
      },
      "execution_count": null,
      "outputs": [
        {
          "output_type": "execute_result",
          "data": {
            "text/plain": [
              "<matplotlib.axes._subplots.AxesSubplot at 0x7f81a8355ca0>"
            ]
          },
          "metadata": {},
          "execution_count": 284
        },
        {
          "output_type": "display_data",
          "data": {
            "text/plain": [
              "<Figure size 432x288 with 1 Axes>"
            ],
            "image/png": "[encoded data removed]"
          },
          "metadata": {
            "needs_background": "light"
          }
        }
      ]
    },
    {
      "cell_type": "code",
      "source": [
        "importance = clft.feature_importances_\n",
        "# summarize feature importance\n",
        "for i,v in enumerate(importance):\n",
        " print('Feature: %0d, Score: %.5f' % (i,v))\n",
        "# plot feature importance\n",
        "pyplot.bar([x for x in range(len(importance))], importance)\n",
        "pyplot.show()"
      ],
      "metadata": {
        "colab": {
          "base_uri": "https://localhost:8080/",
          "height": 421
        },
        "id": "CVgG-7j-StNM",
        "outputId": "4bef1029-bd8e-4933-93d8-5465c4efa677"
      },
      "execution_count": null,
      "outputs": [
        {
          "output_type": "stream",
          "name": "stdout",
          "text": [
            "Feature: 0, Score: 0.00660\n",
            "Feature: 1, Score: 0.29037\n",
            "Feature: 2, Score: 0.04570\n",
            "Feature: 3, Score: 0.08861\n",
            "Feature: 4, Score: 0.07314\n",
            "Feature: 5, Score: 0.30450\n",
            "Feature: 6, Score: 0.03883\n",
            "Feature: 7, Score: 0.08863\n",
            "Feature: 8, Score: 0.06362\n"
          ]
        },
        {
          "output_type": "display_data",
          "data": {
            "text/plain": [
              "<Figure size 432x288 with 1 Axes>"
            ],
            "image/png": "[encoded data removed]"
          },
          "metadata": {
            "needs_background": "light"
          }
        }
      ]
    },
    {
      "cell_type": "code",
      "source": [
        "importance.sort()\n",
        "importance"
      ],
      "metadata": {
        "id": "PdxFOxkOUW5a"
      },
      "execution_count": null,
      "outputs": []
    },
    {
      "cell_type": "code",
      "source": [
        "pyplot.scatter([x for x in range(len(importance))], importance)\n",
        "pyplot.show()"
      ],
      "metadata": {
        "colab": {
          "base_uri": "https://localhost:8080/",
          "height": 265
        },
        "id": "-C4L66J1UhMT",
        "outputId": "fc89a0ab-1184-4226-8e58-5e4ac9ce230a"
      },
      "execution_count": null,
      "outputs": [
        {
          "output_type": "display_data",
          "data": {
            "text/plain": [
              "<Figure size 432x288 with 1 Axes>"
            ],
            "image/png": "[encoded data removed]"
          },
          "metadata": {
            "needs_background": "light"
          }
        }
      ]
    },
    {
      "cell_type": "markdown",
      "source": [
        "We found that the influential factors align with the Four-Factors theory by Dean Oliver"
      ],
      "metadata": {
        "id": "YZgOgWVUsRQo"
      }
    },
    {
      "cell_type": "code",
      "source": [
        "accuracy_score(y4_test, list(map(round, clft.predict(x4_test))))"
      ],
      "metadata": {
        "colab": {
          "base_uri": "https://localhost:8080/"
        },
        "id": "nLUQqyDlQEDf",
        "outputId": "8db1d8e2-1173-45d9-c89d-e7ca3efadd1f"
      },
      "execution_count": null,
      "outputs": [
        {
          "output_type": "execute_result",
          "data": {
            "text/plain": [
              "0.7975077881619937"
            ]
          },
          "metadata": {},
          "execution_count": 233
        }
      ]
    },
    {
      "cell_type": "markdown",
      "source": [
        "CART performs poorly compared with logistic regression models."
      ],
      "metadata": {
        "id": "bzVCY6gF8WvX"
      }
    },
    {
      "cell_type": "markdown",
      "source": [
        "## IX. Simulation Models\n",
        "We have discussed linear/non-linear regression models that predict binary/numeric outcomes. The as\u0002sumptions of these models generally involve descriptive statistics being correlated with the expectation\n",
        "of some function containing the response. It is also proposed that the game results can be simulated with proper assumptions about the game’s nature"
      ],
      "metadata": {
        "id": "kYtOW2tG8YFz"
      }
    },
    {
      "cell_type": "markdown",
      "source": [
        "### 9.1 Weibull/Poisson Model\n",
        "\n",
        "Wu,etc.(2022) argue that the points scored and allowed follow Weibull distributions, which agree with\n",
        "the discussion by Miller of the Pythagorean Winning Percentage. It is plausible to predict points and\n",
        "eventually the outcome of games using such assumptions.\n",
        "It is also tempting to treat basketball field goals as Poisson variables, like the model implemented by An\u0002drade(2022) for football to predict World Cup 2022. However, it is proposed by Mart´ın-Gonz´alez,etc.(2016)\n",
        "that basketball events does not necessarily follow a poisson distribution. They argued that the result of\n",
        "the competed basketball games depends on the last minute of the game. This makes the Poisson model\n",
        "less realistic. But it relieves more assumptions made in logistic regression regarding linearity. Due to\n",
        "time restriction Weibull/Poisson models are not simulated.\n",
        "Simulation models usually only focus on the underlying distribution of the game results rather than pro\u0002viding useful information about what contributes to the results of the games. In our examples, none of\n",
        "the data mentioned in Section 5, 6, and 7 was studied. This simulation strategy is often used by team\n",
        "and coaches to test their strategy proposal/evaluate their roster changes.\n"
      ],
      "metadata": {
        "id": "xsPDMvB38YIa"
      }
    },
    {
      "cell_type": "markdown",
      "source": [
        "## X. Limitations and Future Work\n",
        "Since we have discussed the effort to model events in games in Section 9, we can extend these ideas to\n",
        "simulation of the actual game. Given sufficient data to evaluate the performance of players and teams,\n",
        "we can simulate each events on the court: player’s movements, defense events, a shot that goes in/misses,\n",
        "a shot that is blocked, even the ball is stolen by the opponent players. If we are able to accurately depict\n",
        "these actions, then the final outcome of the games will be realistic. In fact, in man-versus-computer videos\n",
        "games, the ”enemy” is usually hand-coded by developers, and sometimes high-level AI technique is used\n",
        "to achieve better performance. The AI in video games obeys the rules of the game, and find its own way to\n",
        "reach the ”goal”, which is winning. It is a bit similar to sports analytics, right? The AI analyzes the situa\u0002tion, and makes the decision it thinks the most impactful. Hopefully we can tackle this area in the future.\n"
      ],
      "metadata": {
        "id": "WG5-oOv08YLQ"
      }
    },
    {
      "cell_type": "markdown",
      "source": [
        "## XI. Conclusion\n",
        "We discussed different types of data used for analytics, including box score and advanced box score.\n",
        "We also introduced different measurements for performances, like winning percentage. These statistics\n",
        "combined to yield promising prediction results by regression models. Given that, we are confident to\n",
        "point out that four factors accounts for most of the success/failure in a basketball game. Furthermore,\n",
        "we discussed more advanced algorithms that try to model the game from other perspectives. It is a long\n",
        "way to study the nature of the events in sports games. It is likely that many events follow very different\n",
        "distributions, and we can ensemble our understanding of them to create much more informative models"
      ],
      "metadata": {
        "id": "5QlLhkvJ8YOg"
      }
    },
    {
      "cell_type": "markdown",
      "source": [],
      "metadata": {
        "id": "EuifohcW8YRH"
      }
    }
  ]
}